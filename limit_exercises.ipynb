{
 "cells": [
  {
   "cell_type": "markdown",
   "id": "fb7cffb0",
   "metadata": {},
   "source": [
    "# Limit Exercises"
   ]
  },
  {
   "cell_type": "markdown",
   "id": "83de2ba3",
   "metadata": {},
   "source": [
    "<hr style=\"border:2px solid gray\">"
   ]
  },
  {
   "cell_type": "markdown",
   "id": "a4421005",
   "metadata": {},
   "source": [
    "1. Create a new SQL script named limit_exercises.sql.\n",
    "\n",
    "2. MySQL provides a way to return only unique results from our queries with the keyword DISTINCT. For example, to find all the unique titles within the company, we could run the following query:\n",
    "\n",
    "\n",
    "SELECT DISTINCT title FROM titles;\n",
    "List the first 10 distinct last name sorted in descending order.\n",
    "\n",
    "3. Find all previous or current employees hired in the 90s and born on Christmas. Find the first 5 employees hired in the 90's by sorting by hire date and limiting your results to the first 5 records. Write a comment in your code that lists the five names of the employees returned.\n",
    "\n",
    "4. Try to think of your results as batches, sets, or pages. The first five results are your first page. The five after that would be your second page, etc. Update the query to find the tenth page of results.\n",
    "\n",
    "LIMIT and OFFSET can be used to create multiple pages of data. What is the relationship between OFFSET (number of results to skip), LIMIT (number of results per page), and the page number?"
   ]
  },
  {
   "cell_type": "markdown",
   "id": "74273a12",
   "metadata": {},
   "source": [
    "<hr style=\"border:0.5px solid black\">\n",
    "<hr style=\"border:0.5px solid black\">"
   ]
  },
  {
   "cell_type": "markdown",
   "id": "bfdc9951",
   "metadata": {},
   "source": [
    "<b>1. Create a new SQL script named limit_exercises.sql."
   ]
  },
  {
   "cell_type": "code",
   "execution_count": null,
   "id": "17d93fab",
   "metadata": {},
   "outputs": [],
   "source": [
    "USE employees;\n",
    "SELECT database();\n",
    "SHOW tables;"
   ]
  },
  {
   "cell_type": "markdown",
   "id": "12331830",
   "metadata": {},
   "source": [
    "<b> 2a. For example, to find all the unique titles within the company, we could run the following query:\n",
    "SELECT DISTINCT title FROM titles;"
   ]
  },
  {
   "cell_type": "code",
   "execution_count": null,
   "id": "bc95edc2",
   "metadata": {},
   "outputs": [],
   "source": [
    "#see what titles are returned\n",
    "SELECT *\n",
    "FROM titles;"
   ]
  },
  {
   "cell_type": "code",
   "execution_count": null,
   "id": "4089f2a4",
   "metadata": {},
   "outputs": [],
   "source": [
    "#List the distinct values titles\n",
    "SELECT DISTINCT title\n",
    "FROM titles;"
   ]
  },
  {
   "cell_type": "markdown",
   "id": "f2bd96df",
   "metadata": {},
   "source": [
    "<b>2b. List the first 10 distinct last name sorted in descending order."
   ]
  },
  {
   "cell_type": "code",
   "execution_count": null,
   "id": "8c7d12ec",
   "metadata": {},
   "outputs": [],
   "source": [
    "SELECT DISTINCT last_name\n",
    "FROM employees\n",
    "ORDER BY last_name DESC\n",
    "LIMIT 10;"
   ]
  },
  {
   "cell_type": "markdown",
   "id": "4ff571b9",
   "metadata": {},
   "source": [
    "<b>Answer</b>: \n",
    "- Zykh\n",
    "- Zyda\n",
    "- Zwicker\n",
    "- Zweizig\n",
    "- Zumaque\n",
    "- Zultner\n",
    "- Zucker\n",
    "- Zuberek\n",
    "- Zschoche\n",
    "- Zongker "
   ]
  },
  {
   "cell_type": "markdown",
   "id": "6dc2489f",
   "metadata": {},
   "source": [
    "<b>3. Find all previous or current employees hired in the 90s and born on Christmas. Find the first 5 employees hired in the 90's by sorting by hire date and limiting your results to the first 5 records. Write a comment in your code that lists the five names of the employees returned."
   ]
  },
  {
   "cell_type": "code",
   "execution_count": null,
   "id": "fa142d83",
   "metadata": {},
   "outputs": [],
   "source": [
    "SELECT first_name, last_name, hire_date\n",
    "FROM employees\n",
    "WHERE hire_date like '199%' \n",
    "AND birth_date like '%-12-25'\n",
    "ORDER BY hire_date\n",
    "limit 5;"
   ]
  },
  {
   "cell_type": "markdown",
   "id": "29471ff1",
   "metadata": {},
   "source": [
    "<b>Answer</b>: \n",
    "- Alselm Cappello\n",
    "- Utz Mandell\n",
    "- Bouchung Schreiter\n",
    "- Baocai Kushner\n",
    "- Petter Stroustrup"
   ]
  },
  {
   "cell_type": "markdown",
   "id": "367dfce5",
   "metadata": {},
   "source": [
    "<b>4. Try to think of your results as batches, sets, or pages. The first five results are your first page. The five after that would be your second page, etc."
   ]
  },
  {
   "cell_type": "markdown",
   "id": "73d21909",
   "metadata": {},
   "source": [
    "- Page 1 -> LIMIT = 5, OFFSET = 0, Records 1-5\n",
    "- Page 2 -> LIMIT = 5, OFFSET = 5, Records 6-10\n",
    "-           Page 3 -> LIMIT = 5, OFFSET = 10, Records 11-15\n",
    "...\n",
    "- Page # * Limit = offset for next page.\n",
    "- Page 9 * 5 = 45, so page 10 is offset 45 or 9 pages with limits of 5 each.                                  "
   ]
  },
  {
   "cell_type": "markdown",
   "id": "01fd04dd",
   "metadata": {},
   "source": [
    "<b> 4a. Update the query to find the tenth page of results."
   ]
  },
  {
   "cell_type": "code",
   "execution_count": null,
   "id": "0ce4915c",
   "metadata": {},
   "outputs": [],
   "source": [
    "SELECT first_name, last_name, hire_date\n",
    "FROM employees\n",
    "WHERE hire_date LIKE '199%'\n",
    "AND birth_date LIKE '%-12-25'\n",
    "ORDER BY hire_date\n",
    "LIMIT 5 OFFSET 45;"
   ]
  },
  {
   "cell_type": "markdown",
   "id": "e16b259c",
   "metadata": {},
   "source": [
    "<b>Answer</b>:\n",
    "- Pranay Narwekar\n",
    "- Marjo Farrow\n",
    "- Ennio Karcich\n",
    "- Dines Lubachevsky\n",
    "- Ipke Fontan"
   ]
  },
  {
   "cell_type": "markdown",
   "id": "4512c94e",
   "metadata": {},
   "source": [
    "<b>4b. LIMIT and OFFSET can be used to create multiple pages of data. What is the relationship between OFFSET (number of results to skip), LIMIT (number of results per page), and the page number?"
   ]
  },
  {
   "cell_type": "markdown",
   "id": "a335d51d",
   "metadata": {},
   "source": [
    "<b>Answer</b>:\n",
    "If I want page 10, the formula could be something like this...\n",
    "- (Page - 1) * Limit = Offset\n",
    "- (10-1)   *   5   = 45\n",
    "\n"
   ]
  }
 ],
 "metadata": {
  "kernelspec": {
   "display_name": "Python 3 (ipykernel)",
   "language": "python",
   "name": "python3"
  },
  "language_info": {
   "codemirror_mode": {
    "name": "ipython",
    "version": 3
   },
   "file_extension": ".py",
   "mimetype": "text/x-python",
   "name": "python",
   "nbconvert_exporter": "python",
   "pygments_lexer": "ipython3",
   "version": "3.9.13"
  }
 },
 "nbformat": 4,
 "nbformat_minor": 5
}
