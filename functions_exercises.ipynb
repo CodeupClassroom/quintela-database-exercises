{
 "cells": [
  {
   "cell_type": "markdown",
   "id": "1ca9ac35",
   "metadata": {},
   "source": [
    "# Order By Exercises"
   ]
  },
  {
   "cell_type": "markdown",
   "id": "4397e67f",
   "metadata": {},
   "source": [
    "<hr style=\"border:2px solid gray\">"
   ]
  },
  {
   "cell_type": "markdown",
   "id": "48a3d01e",
   "metadata": {},
   "source": [
    "1. Copy the order by exercise and save it as functions_exercises.sql.\n",
    "\n",
    "2. Write a query to to find all employees whose last name starts and ends with 'E'. Use concat() to combine their first and last name together as a single column named full_name.\n",
    "\n",
    "3. Convert the names produced in your last query to all uppercase.\n",
    "\n",
    "4. Use a function to determine how many results were returned from your previous query.\n",
    "\n",
    "5. Find all employees hired in the 90s and born on Christmas. Use datediff() function to find how many days they have been working at the company (Hint: You will also need to use NOW() or CURDATE()),\n",
    "\n",
    "6. Find the smallest and largest current salary from the salaries table.\n",
    "\n",
    "7. Use your knowledge of built in SQL functions to generate a username for all of the employees. A username should be all lowercase, and consist of the first character of the employees first name, the first 4 characters of the employees last name, an underscore, the month the employee was born, and the last two digits of the year that they were born."
   ]
  },
  {
   "cell_type": "markdown",
   "id": "2d316f80",
   "metadata": {},
   "source": [
    "<hr style=\"border:0.5px solid black\">\n",
    "<hr style=\"border:0.5px solid black\">"
   ]
  },
  {
   "cell_type": "markdown",
   "id": "28c5ed2e",
   "metadata": {},
   "source": [
    "<b>1. Copy the order by exercise and save it as functions_exercises.sql."
   ]
  },
  {
   "cell_type": "code",
   "execution_count": null,
   "id": "47f805b9",
   "metadata": {},
   "outputs": [],
   "source": [
    "USE employees;"
   ]
  },
  {
   "cell_type": "markdown",
   "id": "5d15097d",
   "metadata": {},
   "source": [
    "<hr style=\"border:1px solid black\">"
   ]
  },
  {
   "cell_type": "markdown",
   "id": "9f874c5b",
   "metadata": {},
   "source": [
    "<b>2.Write a query to to find all employees whose last name starts and ends with 'E'. Use concat() to combine their first and last name together as a single column named full_name.\n"
   ]
  },
  {
   "cell_type": "code",
   "execution_count": null,
   "id": "d23411df",
   "metadata": {},
   "outputs": [],
   "source": [
    "SELECT CONCAT(first_name,\" \", last_name) as full_name\n",
    "FROM employees\n",
    "WHERE last_name like 'e%e';"
   ]
  },
  {
   "cell_type": "markdown",
   "id": "52c62c06",
   "metadata": {},
   "source": [
    "<hr style=\"border:1px solid black\">"
   ]
  },
  {
   "cell_type": "markdown",
   "id": "656d1e98",
   "metadata": {},
   "source": [
    "<b>3. Convert the names produced in your last query to all uppercase."
   ]
  },
  {
   "cell_type": "code",
   "execution_count": null,
   "id": "48f82f2c",
   "metadata": {},
   "outputs": [],
   "source": [
    "SELECT UPPER (CONCAT(first_name,\" \",last_name)) as full_name\n",
    "FROM employees\n",
    "WHERE last_name like 'e%e';"
   ]
  },
  {
   "cell_type": "markdown",
   "id": "14ee026e",
   "metadata": {},
   "source": [
    "<hr style=\"border:1px solid black\">"
   ]
  },
  {
   "cell_type": "markdown",
   "id": "7c406f0c",
   "metadata": {},
   "source": [
    "<b>4. Use a function to determine how many results were returned from your previous query."
   ]
  },
  {
   "cell_type": "code",
   "execution_count": null,
   "id": "2267aad9",
   "metadata": {},
   "outputs": [],
   "source": [
    "SELECT COUNT(*)\n",
    "FROM employees\n",
    "WHERE last_name like 'e%e';"
   ]
  },
  {
   "cell_type": "markdown",
   "id": "b34d28c3",
   "metadata": {},
   "source": [
    "<hr style=\"border:0.5px solid grey\">"
   ]
  },
  {
   "cell_type": "markdown",
   "id": "9e441566",
   "metadata": {},
   "source": [
    "<b>5. Find all employees hired in the 90s and born on Christmas. Use datediff() function to find how many days they have been working at the company (Hint: You will also need to use NOW() or CURDATE()),"
   ]
  },
  {
   "cell_type": "code",
   "execution_count": null,
   "id": "92b55638",
   "metadata": {},
   "outputs": [],
   "source": [
    "SELECT first_name, \n",
    "    last_name, \n",
    "    DATEDIFF(CURDATE(), hire_date) as \"days_with_company\"\n",
    "from employees\n",
    "WHERE hire_date like '199%' \n",
    "AND birth_date like '%-12-25';"
   ]
  },
  {
   "cell_type": "code",
   "execution_count": null,
   "id": "0a36a545",
   "metadata": {},
   "outputs": [],
   "source": [
    "SELECT first_name, \n",
    "    last_name, \n",
    "    DATEDIFF(NOW(), hire_date) AS \"days_with_company\"\n",
    "FROM employees\n",
    "WHERE hire_date LIKE '199%' \n",
    "AND birth_date LIKE '%-12-25';"
   ]
  },
  {
   "cell_type": "markdown",
   "id": "130b5609",
   "metadata": {},
   "source": [
    "<hr style=\"border:1px solid black\">"
   ]
  },
  {
   "cell_type": "markdown",
   "id": "b5b40c95",
   "metadata": {},
   "source": [
    "<b>6. Find the smallest and largest current salary from the salaries table."
   ]
  },
  {
   "cell_type": "code",
   "execution_count": null,
   "id": "5fa22440",
   "metadata": {},
   "outputs": [],
   "source": [
    "SELECT MIN(salary), MAX(salary) \n",
    "FROM salaries;"
   ]
  },
  {
   "cell_type": "code",
   "execution_count": null,
   "id": "f9e78919",
   "metadata": {},
   "outputs": [],
   "source": [
    "SELECT MIN(salary), MAX(salary)\n",
    "FROM salaries\n",
    "Where to_date > from_date;"
   ]
  },
  {
   "cell_type": "markdown",
   "id": "305cacca",
   "metadata": {},
   "source": [
    "<hr style=\"border:0.5px solid grey\">"
   ]
  },
  {
   "cell_type": "markdown",
   "id": "2cc8490c",
   "metadata": {},
   "source": [
    "<b>7. Use your knowledge of built in SQL functions to generate a username for all of the employees. A username should be all lowercase, and consist of the first character of the employees first name, the first 4 characters of the employees last name, an underscore, the month the employee was born, and the last two digits of the year that they were born."
   ]
  },
  {
   "cell_type": "code",
   "execution_count": null,
   "id": "05d72ba7",
   "metadata": {},
   "outputs": [],
   "source": [
    "SELECT \n",
    "    LOWER(\n",
    "        CONCAT(\n",
    "            SUBSTR(first_name, 1, 1),\n",
    "            SUBSTR(last_name, 1, 4),\n",
    "            '_',\n",
    "            SUBSTR(birth_date, 6, 2),\n",
    "            SUBSTR(birth_date, 3, 2)\n",
    "        )\n",
    "    ) AS username,\n",
    "    first_name,\n",
    "    last_name,\n",
    "    birth_date\n",
    "FROM\n",
    "    employees;"
   ]
  },
  {
   "cell_type": "code",
   "execution_count": null,
   "id": "6682b206",
   "metadata": {},
   "outputs": [],
   "source": [
    "SELECT \n",
    "    LOWER(\n",
    "        CONCAT(\n",
    "            LEFT(first_name, 1),\n",
    "            LEFT(last_name, 4),\n",
    "            '_',\n",
    "            SUBSTR(birth_date, 6, 2),\n",
    "            SUBSTR(birth_date, 3, 2)\n",
    "        )\n",
    "    ) AS username,\n",
    "    first_name,\n",
    "    last_name,\n",
    "    birth_date\n",
    "FROM\n",
    "    employees\n",
    "LIMIT 10;"
   ]
  },
  {
   "cell_type": "code",
   "execution_count": null,
   "id": "b57f3583",
   "metadata": {},
   "outputs": [],
   "source": [
    "SELECT \n",
    "    LOWER(\n",
    "        CONCAT(\n",
    "            SUBSTR(first_name, 1, 1),\n",
    "            SUBSTR(last_name, 1, 4),\n",
    "            '_',\n",
    "            date_format(birth_date, '%m%y')\n",
    "        )\n",
    "    ) AS username,\n",
    "    first_name,\n",
    "    last_name,\n",
    "    birth_date\n",
    "FROM\n",
    "    employees\n",
    "LIMIT 10;"
   ]
  }
 ],
 "metadata": {
  "kernelspec": {
   "display_name": "Python 3 (ipykernel)",
   "language": "python",
   "name": "python3"
  },
  "language_info": {
   "codemirror_mode": {
    "name": "ipython",
    "version": 3
   },
   "file_extension": ".py",
   "mimetype": "text/x-python",
   "name": "python",
   "nbconvert_exporter": "python",
   "pygments_lexer": "ipython3",
   "version": "3.9.13"
  }
 },
 "nbformat": 4,
 "nbformat_minor": 5
}
