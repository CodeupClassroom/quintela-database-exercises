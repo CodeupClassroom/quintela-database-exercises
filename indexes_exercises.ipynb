{
 "cells": [
  {
   "cell_type": "markdown",
   "id": "7a13a369",
   "metadata": {},
   "source": [
    "# Indexes Exercises"
   ]
  },
  {
   "cell_type": "markdown",
   "id": "681fa0e1",
   "metadata": {},
   "source": [
    "<hr style=\"border:2px solid gray\">"
   ]
  },
  {
   "cell_type": "markdown",
   "id": "012dc95b",
   "metadata": {},
   "source": [
    "1. ```USE``` your ```employees``` database.\n",
    "\n",
    "2. ```DESCRIBE``` each table and inspect the keys and see which columns have indexes and keys."
   ]
  },
  {
   "cell_type": "markdown",
   "id": "bbe8747e",
   "metadata": {},
   "source": [
    "<hr style=\"border:0.5px solid black\">\n",
    "<hr style=\"border:0.5px solid black\">"
   ]
  },
  {
   "cell_type": "markdown",
   "id": "629cc053",
   "metadata": {},
   "source": [
    "<b>1. ```USE``` your ```employees``` database."
   ]
  },
  {
   "cell_type": "code",
   "execution_count": null,
   "id": "bde332f8",
   "metadata": {},
   "outputs": [],
   "source": [
    "USE employees;"
   ]
  },
  {
   "cell_type": "markdown",
   "id": "b4eb9e4d",
   "metadata": {},
   "source": [
    "<hr style=\"border:0.5px solid grey\">"
   ]
  },
  {
   "cell_type": "markdown",
   "id": "e2288ecc",
   "metadata": {},
   "source": [
    "<b>2. ```DESCRIBE``` each table and inspect the keys and see which columns have indexes and keys."
   ]
  },
  {
   "cell_type": "code",
   "execution_count": null,
   "id": "a515219d",
   "metadata": {},
   "outputs": [],
   "source": [
    "DESCRIBE departments;"
   ]
  },
  {
   "cell_type": "code",
   "execution_count": null,
   "id": "793fe834",
   "metadata": {},
   "outputs": [],
   "source": [
    "SELECT *\n",
    "FROM departments;"
   ]
  },
  {
   "cell_type": "code",
   "execution_count": null,
   "id": "01b9abf1",
   "metadata": {},
   "outputs": [],
   "source": [
    "DESCRIBE dept_emp;"
   ]
  },
  {
   "cell_type": "code",
   "execution_count": null,
   "id": "9c05ae38",
   "metadata": {},
   "outputs": [],
   "source": [
    "SELECT *\n",
    "FROM dept_emp;"
   ]
  },
  {
   "cell_type": "code",
   "execution_count": null,
   "id": "00db1a80",
   "metadata": {},
   "outputs": [],
   "source": [
    "DESCRIBE dept_manager;"
   ]
  },
  {
   "cell_type": "code",
   "execution_count": null,
   "id": "8923ba5a",
   "metadata": {},
   "outputs": [],
   "source": [
    "SELECT *\n",
    "FROM dept_manager;"
   ]
  },
  {
   "cell_type": "code",
   "execution_count": null,
   "id": "aa095939",
   "metadata": {},
   "outputs": [],
   "source": [
    "DESCRIBE employees;"
   ]
  },
  {
   "cell_type": "code",
   "execution_count": null,
   "id": "e8df5537",
   "metadata": {},
   "outputs": [],
   "source": [
    "SELECT *\n",
    "FROM employees;"
   ]
  },
  {
   "cell_type": "code",
   "execution_count": null,
   "id": "c236d289",
   "metadata": {},
   "outputs": [],
   "source": [
    "DESCRIBE salaries;"
   ]
  },
  {
   "cell_type": "code",
   "execution_count": null,
   "id": "cdecb4fd",
   "metadata": {},
   "outputs": [],
   "source": [
    "SELECT *\n",
    "FROM salaries;"
   ]
  },
  {
   "cell_type": "code",
   "execution_count": null,
   "id": "0f5bdad2",
   "metadata": {},
   "outputs": [],
   "source": [
    "DESCRIBE titles;"
   ]
  },
  {
   "cell_type": "code",
   "execution_count": null,
   "id": "bf7cc4a6",
   "metadata": {},
   "outputs": [],
   "source": [
    "SELECT *\n",
    "FROM titles;"
   ]
  }
 ],
 "metadata": {
  "kernelspec": {
   "display_name": "Python 3 (ipykernel)",
   "language": "python",
   "name": "python3"
  },
  "language_info": {
   "codemirror_mode": {
    "name": "ipython",
    "version": 3
   },
   "file_extension": ".py",
   "mimetype": "text/x-python",
   "name": "python",
   "nbconvert_exporter": "python",
   "pygments_lexer": "ipython3",
   "version": "3.9.13"
  }
 },
 "nbformat": 4,
 "nbformat_minor": 5
}
