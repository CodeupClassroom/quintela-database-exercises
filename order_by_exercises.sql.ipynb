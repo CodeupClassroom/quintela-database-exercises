{
 "cells": [
  {
   "cell_type": "markdown",
   "id": "1ca9ac35",
   "metadata": {},
   "source": [
    "# Order By Exercises"
   ]
  },
  {
   "cell_type": "markdown",
   "id": "4397e67f",
   "metadata": {},
   "source": [
    "<hr style=\"border:2px solid gray\">"
   ]
  },
  {
   "cell_type": "markdown",
   "id": "48a3d01e",
   "metadata": {},
   "source": [
    "1. Create a new file named order_by_exercises.sql and copy in the contents of your exercise from the previous lesson.\n",
    "\n",
    "2. Find all employees with first names 'Irena', 'Vidya', or 'Maya', and order your results returned by first name. In your comments, answer: What was the first and last name in the first row of the results? What was the first and last name of the last person in the table?\n",
    "\n",
    "3. Find all employees with first names 'Irena', 'Vidya', or 'Maya', and order your results returned by first name and then last name. In your comments, answer: What was the first and last name in the first row of the results? What was the first and last name of the last person in the table?\n",
    "\n",
    "4. Find all employees with first names 'Irena', 'Vidya', or 'Maya', and order your results returned by last name and then first name. In your comments, answer: What was the first and last name in the first row of the results? What was the first and last name of the last person in the table?\n",
    "\n",
    "5. Write a query to to find all employees whose last name starts and ends with 'E'. Sort the results by their employee number. Enter a comment with the number of employees returned, the first employee number and their first and last name, and the last employee number with their first and last name.\n",
    "\n",
    "6. Write a query to to find all employees whose last name starts and ends with 'E'. Sort the results by their hire date, so that the newest employees are listed first. Enter a comment with the number of employees returned, the name of the newest employee, and the name of the oldest employee.\n",
    "\n",
    "7. Find all employees hired in the 90s and born on Christmas. Sort the results so that the oldest employee who was hired last is the first result. Enter a comment with the number of employees returned, the name of the oldest employee who was hired last, and the name of the youngest employee who was hired first."
   ]
  },
  {
   "cell_type": "markdown",
   "id": "2d316f80",
   "metadata": {},
   "source": [
    "<hr style=\"border:0.5px solid black\">\n",
    "<hr style=\"border:0.5px solid black\">"
   ]
  },
  {
   "cell_type": "markdown",
   "id": "28c5ed2e",
   "metadata": {},
   "source": [
    "<b>1. Create a new file named order_by_exercises.sql and copy in the contents of your exercise from the previous lesson."
   ]
  },
  {
   "cell_type": "code",
   "execution_count": null,
   "id": "47f805b9",
   "metadata": {},
   "outputs": [],
   "source": [
    "USE employees;"
   ]
  },
  {
   "cell_type": "markdown",
   "id": "5d15097d",
   "metadata": {},
   "source": [
    "<hr style=\"border:1px solid black\">"
   ]
  },
  {
   "cell_type": "markdown",
   "id": "9f874c5b",
   "metadata": {},
   "source": [
    "<b>2. Find all employees with first names 'Irena', 'Vidya', or 'Maya', and order your results returned by first name. "
   ]
  },
  {
   "cell_type": "markdown",
   "id": "ceef84b6",
   "metadata": {},
   "source": [
    "<b>a. What was the first and last name in the first row of the results? "
   ]
  },
  {
   "cell_type": "code",
   "execution_count": null,
   "id": "d23411df",
   "metadata": {},
   "outputs": [],
   "source": [
    "SELECT *\n",
    "FROM employees\n",
    "WHERE first_name IN ('Irena', 'Vidya', 'Maya')\n",
    "ORDER BY first_name;"
   ]
  },
  {
   "cell_type": "markdown",
   "id": "78660683",
   "metadata": {},
   "source": [
    "<b>Answer</b>: Irena Reutenauer"
   ]
  },
  {
   "cell_type": "markdown",
   "id": "a99876dc",
   "metadata": {},
   "source": [
    "<b>b. What was the first and last name of the last person in the table?"
   ]
  },
  {
   "cell_type": "code",
   "execution_count": null,
   "id": "1ed9297a",
   "metadata": {},
   "outputs": [],
   "source": [
    "SELECT *\n",
    "FROM employees\n",
    "WHERE first_name IN ('Irena', 'Vidya', 'Maya')\n",
    "ORDER BY first_name DESC;"
   ]
  },
  {
   "cell_type": "markdown",
   "id": "c3bd609b",
   "metadata": {},
   "source": [
    "<b>Answer</b>: Vidya  Awden"
   ]
  },
  {
   "cell_type": "markdown",
   "id": "52c62c06",
   "metadata": {},
   "source": [
    "<hr style=\"border:1px solid black\">"
   ]
  },
  {
   "cell_type": "markdown",
   "id": "656d1e98",
   "metadata": {},
   "source": [
    "<b>3. Find all employees with first names 'Irena', 'Vidya', or 'Maya', and order your results returned by first name and then last name. "
   ]
  },
  {
   "cell_type": "markdown",
   "id": "a1ac29c9",
   "metadata": {},
   "source": [
    "<b>a. What was the first and last name in the first row of the results? "
   ]
  },
  {
   "cell_type": "code",
   "execution_count": null,
   "id": "48f82f2c",
   "metadata": {},
   "outputs": [],
   "source": [
    "SELECT *\n",
    "FROM employees\n",
    "WHERE first_name IN ('Irena', 'Vidya', 'Maya')\n",
    "ORDER BY first_name, last_name;"
   ]
  },
  {
   "cell_type": "markdown",
   "id": "b60a323c",
   "metadata": {},
   "source": [
    "<b>Answer</b>: Irena Acton"
   ]
  },
  {
   "cell_type": "markdown",
   "id": "b2784bbc",
   "metadata": {},
   "source": [
    "<b>b. What was the first and last name of the last person in the table?"
   ]
  },
  {
   "cell_type": "code",
   "execution_count": null,
   "id": "87eac34c",
   "metadata": {},
   "outputs": [],
   "source": [
    "SELECT *\n",
    "FROM employees\n",
    "WHERE first_name IN ('Irena', 'Vidya', 'Maya')\n",
    "ORDER BY first_name DESC, last_name DESC;"
   ]
  },
  {
   "cell_type": "markdown",
   "id": "57f31ee5",
   "metadata": {},
   "source": [
    "<b>Answer</b>: Vidya Zweizig"
   ]
  },
  {
   "cell_type": "markdown",
   "id": "14ee026e",
   "metadata": {},
   "source": [
    "<hr style=\"border:1px solid black\">"
   ]
  },
  {
   "cell_type": "markdown",
   "id": "7c406f0c",
   "metadata": {},
   "source": [
    "<b>4. Find all employees with first names 'Irena', 'Vidya', or 'Maya', and order your results returned by last name and then first name. "
   ]
  },
  {
   "cell_type": "markdown",
   "id": "b464d42a",
   "metadata": {},
   "source": [
    "<b>a. What was the first and last name in the first row of the results? "
   ]
  },
  {
   "cell_type": "code",
   "execution_count": null,
   "id": "2267aad9",
   "metadata": {},
   "outputs": [],
   "source": [
    "SELECT *\n",
    "FROM employees\n",
    "WHERE first_name IN ('Irena', 'Vidya', 'Maya')\n",
    "ORDER BY last_name, first_name;"
   ]
  },
  {
   "cell_type": "markdown",
   "id": "c93fb6ba",
   "metadata": {},
   "source": [
    "<b>Answer</b>: Irena Acton"
   ]
  },
  {
   "cell_type": "markdown",
   "id": "3495910d",
   "metadata": {},
   "source": [
    "<b>b. What was the first and last name of the last person in the table?"
   ]
  },
  {
   "cell_type": "code",
   "execution_count": null,
   "id": "04c9b986",
   "metadata": {},
   "outputs": [],
   "source": [
    "SELECT *\n",
    "FROM employees\n",
    "WHERE first_name IN ('Irena', 'Vidya', 'Maya')\n",
    "ORDER BY last_name DESC, first_name DESC;"
   ]
  },
  {
   "cell_type": "markdown",
   "id": "dcd21a7f",
   "metadata": {},
   "source": [
    "<b>Answer</b>: Maya Zyda"
   ]
  },
  {
   "cell_type": "markdown",
   "id": "b34d28c3",
   "metadata": {},
   "source": [
    "<hr style=\"border:0.5px solid grey\">"
   ]
  },
  {
   "cell_type": "markdown",
   "id": "9e441566",
   "metadata": {},
   "source": [
    "<b>5. Write a query to to find all employees whose last name starts and ends with 'E'. Sort the results by their employee number. "
   ]
  },
  {
   "cell_type": "code",
   "execution_count": null,
   "id": "92b55638",
   "metadata": {},
   "outputs": [],
   "source": [
    "SELECT *\n",
    "FROM employees\n",
    "WHERE last_name like 'e%e'\n",
    "order by emp_no;"
   ]
  },
  {
   "cell_type": "markdown",
   "id": "5bb2ce03",
   "metadata": {},
   "source": [
    "<b>a. Enter a comment with the number of employees returned"
   ]
  },
  {
   "cell_type": "markdown",
   "id": "5e6c1cd5",
   "metadata": {},
   "source": [
    "<b>Answer</b>: 899 returned"
   ]
  },
  {
   "cell_type": "markdown",
   "id": "5803d87c",
   "metadata": {},
   "source": [
    "<b>b. The first employee number and their first and last name"
   ]
  },
  {
   "cell_type": "markdown",
   "id": "bfd40f49",
   "metadata": {},
   "source": [
    "<b>Answer</b>: Ramzi Erde #10021"
   ]
  },
  {
   "cell_type": "markdown",
   "id": "c0cc9a4c",
   "metadata": {},
   "source": [
    "<b>c. The last employee number with their first and last name"
   ]
  },
  {
   "cell_type": "code",
   "execution_count": null,
   "id": "d75bf27e",
   "metadata": {},
   "outputs": [],
   "source": [
    "SELECT *\n",
    "FROM employees\n",
    "WHERE last_name like 'e%e'\n",
    "order by emp_no DESC;"
   ]
  },
  {
   "cell_type": "markdown",
   "id": "9ec6a5c6",
   "metadata": {},
   "source": [
    "<b>Answer</b>: Tadhiro Erde #499648"
   ]
  },
  {
   "cell_type": "markdown",
   "id": "130b5609",
   "metadata": {},
   "source": [
    "<hr style=\"border:1px solid black\">"
   ]
  },
  {
   "cell_type": "markdown",
   "id": "b5b40c95",
   "metadata": {},
   "source": [
    "<b>6. Write a query to to find all employees whose last name starts and ends with 'E'. Sort the results by their hire date, so that the newest employees are listed first. "
   ]
  },
  {
   "cell_type": "markdown",
   "id": "8444ddcd",
   "metadata": {},
   "source": [
    "<b>a. The number of employees returned"
   ]
  },
  {
   "cell_type": "code",
   "execution_count": null,
   "id": "5fa22440",
   "metadata": {},
   "outputs": [],
   "source": [
    "SELECT *\n",
    "FROM employees\n",
    "WHERE last_name like 'e%e'\n",
    "order by hire_date DESC;"
   ]
  },
  {
   "cell_type": "markdown",
   "id": "372f3619",
   "metadata": {},
   "source": [
    "<b>Answer</b>: 899 returned"
   ]
  },
  {
   "cell_type": "markdown",
   "id": "c53020c3",
   "metadata": {},
   "source": [
    "<b>b. The name of the newest employee."
   ]
  },
  {
   "cell_type": "code",
   "execution_count": null,
   "id": "d0d9935c",
   "metadata": {},
   "outputs": [],
   "source": [
    "SELECT *\n",
    "FROM employees\n",
    "WHERE last_name like 'e%e'\n",
    "order by hire_date DESC;"
   ]
  },
  {
   "cell_type": "markdown",
   "id": "c59238b2",
   "metadata": {},
   "source": [
    "<b>Answer</b>: Teiji Eldridge"
   ]
  },
  {
   "cell_type": "markdown",
   "id": "9a4d64a0",
   "metadata": {},
   "source": [
    "<b>c. The name of the oldest employee"
   ]
  },
  {
   "cell_type": "code",
   "execution_count": null,
   "id": "6c2d5de4",
   "metadata": {},
   "outputs": [],
   "source": [
    "SELECT *\n",
    "FROM employees\n",
    "WHERE last_name like 'e%e'\n",
    "order by hire_date ASC;"
   ]
  },
  {
   "cell_type": "code",
   "execution_count": null,
   "id": "0ceac980",
   "metadata": {},
   "outputs": [],
   "source": [
    "SELECT *\n",
    "FROM employees\n",
    "WHERE last_name like 'e%e'\n",
    "order by hire_date;"
   ]
  },
  {
   "cell_type": "markdown",
   "id": "09428920",
   "metadata": {},
   "source": [
    "<b>Answer</b>: Sergi Erde"
   ]
  },
  {
   "cell_type": "markdown",
   "id": "305cacca",
   "metadata": {},
   "source": [
    "<hr style=\"border:0.5px solid grey\">"
   ]
  },
  {
   "cell_type": "markdown",
   "id": "2cc8490c",
   "metadata": {},
   "source": [
    "<b>7. Find all employees hired in the 90s and born on Christmas. Sort the results so that the oldest employee who was hired last is the first result. "
   ]
  },
  {
   "cell_type": "code",
   "execution_count": null,
   "id": "05d72ba7",
   "metadata": {},
   "outputs": [],
   "source": [
    "SELECT *\n",
    "from employees\n",
    "WHERE hire_date like '199%' and birth_date like '%-12-25'\n",
    "ORDER BY birth_date, hire_date DESC;"
   ]
  },
  {
   "cell_type": "markdown",
   "id": "975d28b9",
   "metadata": {},
   "source": [
    "<b>a. The number of employees returned"
   ]
  },
  {
   "cell_type": "markdown",
   "id": "976e219b",
   "metadata": {},
   "source": [
    "<b>Answer</b>: 362 returned"
   ]
  },
  {
   "cell_type": "markdown",
   "id": "8d95d1f5",
   "metadata": {},
   "source": [
    "<b>b. The name of the oldest employee who was hired last"
   ]
  },
  {
   "cell_type": "code",
   "execution_count": null,
   "id": "1b44670d",
   "metadata": {},
   "outputs": [],
   "source": [
    "SELECT *\n",
    "from employees\n",
    "WHERE hire_date like '199%' and birth_date like '%-12-25'\n",
    "ORDER BY birth_date, hire_date DESC;"
   ]
  },
  {
   "cell_type": "markdown",
   "id": "bea8c8b8",
   "metadata": {},
   "source": [
    "<b>Answer</b>: Khun Bernini"
   ]
  },
  {
   "cell_type": "markdown",
   "id": "b819db94",
   "metadata": {},
   "source": [
    "<b>c. The name of the youngest employee who was hired first."
   ]
  },
  {
   "cell_type": "code",
   "execution_count": null,
   "id": "4cc6032f",
   "metadata": {},
   "outputs": [],
   "source": [
    "SELECT *\n",
    "from employees\n",
    "WHERE hire_date like '199%' and birth_date like '%-12-25'\n",
    "ORDER BY birth_date DESC, hire_date;"
   ]
  },
  {
   "cell_type": "markdown",
   "id": "9fd9e1d1",
   "metadata": {},
   "source": [
    "<b>Answer</b>: Douadi Pettis"
   ]
  }
 ],
 "metadata": {
  "kernelspec": {
   "display_name": "Python 3 (ipykernel)",
   "language": "python",
   "name": "python3"
  },
  "language_info": {
   "codemirror_mode": {
    "name": "ipython",
    "version": 3
   },
   "file_extension": ".py",
   "mimetype": "text/x-python",
   "name": "python",
   "nbconvert_exporter": "python",
   "pygments_lexer": "ipython3",
   "version": "3.9.13"
  }
 },
 "nbformat": 4,
 "nbformat_minor": 5
}
