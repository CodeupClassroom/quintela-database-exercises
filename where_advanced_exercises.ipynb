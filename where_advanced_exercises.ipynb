{
 "cells": [
  {
   "cell_type": "markdown",
   "id": "75ec29b0",
   "metadata": {},
   "source": [
    "# Clauses Exercises"
   ]
  },
  {
   "cell_type": "markdown",
   "id": "2c43c664",
   "metadata": {},
   "source": [
    "<hr style=\"border:2px solid gray\">"
   ]
  },
  {
   "cell_type": "markdown",
   "id": "8b3c39e6",
   "metadata": {},
   "source": [
    "1. Find all current or previous employees with first names 'Irena', 'Vidya', or 'Maya' using IN. What is the employee number of the top three results?\n",
    "\n",
    "2. Find all current or previous employees with first names 'Irena', 'Vidya', or 'Maya', as in Q2, but use OR instead of IN. What is the employee number of the top three results? Does it match the previous question?\n",
    "\n",
    "3. Find all current or previous employees with first names 'Irena', 'Vidya', or 'Maya', using OR, and who is male. What is the employee number of the top three results.\n",
    "\n",
    "4. Find all unique last names that start with 'E'.\n",
    "\n",
    "5. Find all unique last names that start or end with 'E'.\n",
    "\n",
    "6. Find all unique last names that end with E, but does not start with E?\n",
    "\n",
    "7. Find all unique last names that start and end with 'E'.\n",
    "\n",
    "8. Find all current or previous employees hired in the 90s. Enter a comment with top three employee numbers.\n",
    "\n",
    "9. Find all current or previous employees born on Christmas. Enter a comment with top three employee numbers.\n",
    "\n",
    "10. Find all current or previous employees hired in the 90s and born on Christmas. Enter a comment with top three employee numbers.\n",
    "\n",
    "11. Find all unique last names that have a 'q' in their last name.\n",
    "\n",
    "12. Find all unique last names that have a 'q' in their last name but not 'qu'."
   ]
  },
  {
   "cell_type": "markdown",
   "id": "d241bdbf",
   "metadata": {},
   "source": [
    "<hr style=\"border:1px solid black\">\n",
    "<hr style=\"border:1px solid black\">"
   ]
  },
  {
   "cell_type": "markdown",
   "id": "8d004321",
   "metadata": {},
   "source": [
    "<b>1. Find all current or previous employees with first names 'Irena', 'Vidya', or 'Maya' using IN. What is the employee number of the top three results?"
   ]
  },
  {
   "cell_type": "code",
   "execution_count": null,
   "id": "19b7d236",
   "metadata": {},
   "outputs": [],
   "source": [
    "SELECT *\n",
    "FROM employees\n",
    "WHERE first_name IN ('Irena', 'Vidya', 'Maya');"
   ]
  },
  {
   "cell_type": "markdown",
   "id": "f2b477d6",
   "metadata": {},
   "source": [
    "- <b>Answer</b>: 10200, 10397, 10610"
   ]
  },
  {
   "cell_type": "markdown",
   "id": "aaf4d177",
   "metadata": {},
   "source": [
    "<hr style=\"border:0.5px solid grey\">"
   ]
  },
  {
   "cell_type": "markdown",
   "id": "a0674d29",
   "metadata": {},
   "source": [
    "<b>2. Find all current or previous employees with first names 'Irena', 'Vidya', or 'Maya' (as in question 1) but use OR instead of IN. What is the employee number of the top three results? Does it match the previous question?"
   ]
  },
  {
   "cell_type": "code",
   "execution_count": null,
   "id": "54f9f3a1",
   "metadata": {},
   "outputs": [],
   "source": [
    "SELECT *\n",
    "FROM employees\n",
    "WHERE first_name = 'Irena' \n",
    "    OR first_name = 'Vidya' \n",
    "    OR first_name =  'Maya';"
   ]
  },
  {
   "cell_type": "markdown",
   "id": "42ed29be",
   "metadata": {},
   "source": [
    "- <b>Answer</b>: 10200, 10397, 10610\n",
    "    - yes, they do match. In this instance, you can only have one first name."
   ]
  },
  {
   "cell_type": "markdown",
   "id": "c6ad81ea",
   "metadata": {},
   "source": [
    "<hr style=\"border:0.5px solid grey\">"
   ]
  },
  {
   "cell_type": "markdown",
   "id": "16238000",
   "metadata": {},
   "source": [
    "<b>3. Find all current or previous employees with first names 'Irena', 'Vidya', or 'Maya', using OR, and who is male. What is the employee number of the top three results."
   ]
  },
  {
   "cell_type": "code",
   "execution_count": null,
   "id": "419d6fcb",
   "metadata": {},
   "outputs": [],
   "source": [
    "SELECT *\n",
    "FROM employees\n",
    "WHERE gender = 'M'\n",
    "AND \n",
    "    (first_name = 'Irena' \n",
    "     OR first_name = 'Vidya' \n",
    "     OR first_name = 'Maya');"
   ]
  },
  {
   "cell_type": "code",
   "execution_count": null,
   "id": "ec0d5bb8",
   "metadata": {},
   "outputs": [],
   "source": [
    "SELECT *\n",
    "FROM employees\n",
    "WHERE \n",
    "    (first_name = 'Irena' \n",
    "     OR first_name = 'Vidya' \n",
    "     OR first_name = 'Maya')\n",
    "AND gender = 'M';"
   ]
  },
  {
   "cell_type": "markdown",
   "id": "daa433b8",
   "metadata": {},
   "source": [
    "<hr style=\"border:0.5px solid grey\">"
   ]
  },
  {
   "cell_type": "markdown",
   "id": "3b21b3cb",
   "metadata": {},
   "source": [
    "<b>4. Find all unique last names that start with 'E'."
   ]
  },
  {
   "cell_type": "code",
   "execution_count": null,
   "id": "7bdb5d8a",
   "metadata": {},
   "outputs": [],
   "source": [
    "SELECT DISTINCT last_name\n",
    "FROM employees \n",
    "WHERE last_name LIKE 'E%';"
   ]
  },
  {
   "cell_type": "markdown",
   "id": "f139ef50",
   "metadata": {},
   "source": [
    "<hr style=\"border:0.5px solid grey\">"
   ]
  },
  {
   "cell_type": "markdown",
   "id": "30fc956a",
   "metadata": {},
   "source": [
    "<b>5. Find all unique last names that start <u>or</u> end with 'E'."
   ]
  },
  {
   "cell_type": "code",
   "execution_count": null,
   "id": "699e80d3",
   "metadata": {},
   "outputs": [],
   "source": [
    "SELECT DISTINCT last_name\n",
    "FROM employees \n",
    "WHERE last_name LIKE 'E%' \n",
    "OR last_name LIKE '%E';"
   ]
  },
  {
   "cell_type": "markdown",
   "id": "e5e4336e",
   "metadata": {},
   "source": [
    "<hr style=\"border:0.5px solid grey\">"
   ]
  },
  {
   "cell_type": "markdown",
   "id": "7439bddf",
   "metadata": {},
   "source": [
    "<b>6. Find all unique last names that end with E, but does not start with E?"
   ]
  },
  {
   "cell_type": "code",
   "execution_count": null,
   "id": "ae84fc31",
   "metadata": {},
   "outputs": [],
   "source": [
    "SELECT DISTINCT last_name\n",
    "FROM employees \n",
    "WHERE last_name LIKE '%E' \n",
    "AND NOT last_name LIKE 'E%';"
   ]
  },
  {
   "cell_type": "markdown",
   "id": "491575e1",
   "metadata": {},
   "source": [
    "<hr style=\"border:0.5px solid grey\">"
   ]
  },
  {
   "cell_type": "markdown",
   "id": "e833f3ea",
   "metadata": {},
   "source": [
    "<b>7. Find all unique last names that start <u>and</u> end with 'E'."
   ]
  },
  {
   "cell_type": "code",
   "execution_count": null,
   "id": "753e3059",
   "metadata": {},
   "outputs": [],
   "source": [
    "SELECT *\n",
    "FROM employees \n",
    "WHERE last_name LIKE 'E%' \n",
    "AND last_name LIKE '%E';"
   ]
  },
  {
   "cell_type": "code",
   "execution_count": null,
   "id": "4e7c4b89",
   "metadata": {},
   "outputs": [],
   "source": [
    "SELECT DISTINCT last_name\n",
    "FROM employees \n",
    "WHERE last_name LIKE 'E%E' "
   ]
  },
  {
   "cell_type": "markdown",
   "id": "cb7bb6b9",
   "metadata": {},
   "source": [
    "<hr style=\"border:0.5px solid grey\">"
   ]
  },
  {
   "cell_type": "markdown",
   "id": "b1f20d31",
   "metadata": {},
   "source": [
    "<b>8. Find all current or previous employees hired in the 90s. Enter a comment with top three employee numbers."
   ]
  },
  {
   "cell_type": "code",
   "execution_count": null,
   "id": "6de5037e",
   "metadata": {},
   "outputs": [],
   "source": [
    "SELECT *\n",
    "FROM employees \n",
    "WHERE hire_date LIKE '199%';"
   ]
  },
  {
   "cell_type": "code",
   "execution_count": null,
   "id": "82325b07",
   "metadata": {},
   "outputs": [],
   "source": [
    "SELECT * \n",
    "FROM employees\n",
    "WHERE hire_date BETWEEN '1990-01-01' AND '1999-12-31';"
   ]
  },
  {
   "cell_type": "markdown",
   "id": "76ffa8ca",
   "metadata": {},
   "source": [
    "<hr style=\"border:0.5px solid grey\">"
   ]
  },
  {
   "cell_type": "markdown",
   "id": "2d6c10a2",
   "metadata": {},
   "source": [
    "<b>9. Find all current or previous employees born on Christmas. Enter a comment with top three employee numbers."
   ]
  },
  {
   "cell_type": "code",
   "execution_count": null,
   "id": "3dc14e5c",
   "metadata": {},
   "outputs": [],
   "source": [
    "SELECT *\n",
    "FROM employees\n",
    "WHERE birth_date LIKE '%-12-25';"
   ]
  },
  {
   "cell_type": "markdown",
   "id": "31dba1b0",
   "metadata": {},
   "source": [
    "<hr style=\"border:0.5px solid grey\">"
   ]
  },
  {
   "cell_type": "markdown",
   "id": "7bc3c641",
   "metadata": {},
   "source": [
    "<b>10. Find all current or previous employees hired in the 90s and born on Christmas. Enter a comment with top three employee numbers."
   ]
  },
  {
   "cell_type": "code",
   "execution_count": null,
   "id": "09ac341d",
   "metadata": {},
   "outputs": [],
   "source": [
    "SELECT *\n",
    "FROM employees\n",
    "WHERE hire_date LIKE '199%' and birth_date LIKE '%-12-25';"
   ]
  },
  {
   "cell_type": "markdown",
   "id": "fa5a493b",
   "metadata": {},
   "source": [
    "<hr style=\"border:0.5px solid grey\">"
   ]
  },
  {
   "cell_type": "markdown",
   "id": "216a42f9",
   "metadata": {},
   "source": [
    "<b>11. Find all unique last names that have a 'q' in their last name."
   ]
  },
  {
   "cell_type": "code",
   "execution_count": null,
   "id": "799cfee7",
   "metadata": {},
   "outputs": [],
   "source": [
    "SELECT DISTINCT last_name\n",
    "FROM employees\n",
    "WHERE last_name LIKE '%q%'SELECT DISTINCT last_name\n",
    "FROM employees\n",
    "WHERE last_name LIKE '%q%'\n",
    "AND NOT last_name like '%qu%';\n"
   ]
  },
  {
   "cell_type": "markdown",
   "id": "52c570ec",
   "metadata": {},
   "source": [
    "<hr style=\"border:0.5px solid grey\">"
   ]
  },
  {
   "cell_type": "markdown",
   "id": "af3ad492",
   "metadata": {},
   "source": [
    "<b>12. Find all unique last names that have a 'q' in their last name but not 'qu'."
   ]
  },
  {
   "cell_type": "code",
   "execution_count": null,
   "id": "45b6d32a",
   "metadata": {},
   "outputs": [],
   "source": [
    "SELECT DISTINCT last_name\n",
    "FROM employees\n",
    "WHERE last_name LIKE '%q%'\n",
    "AND NOT last_name like '%qu%';"
   ]
  }
 ],
 "metadata": {
  "kernelspec": {
   "display_name": "Python 3 (ipykernel)",
   "language": "python",
   "name": "python3"
  },
  "language_info": {
   "codemirror_mode": {
    "name": "ipython",
    "version": 3
   },
   "file_extension": ".py",
   "mimetype": "text/x-python",
   "name": "python",
   "nbconvert_exporter": "python",
   "pygments_lexer": "ipython3",
   "version": "3.9.13"
  }
 },
 "nbformat": 4,
 "nbformat_minor": 5
}
