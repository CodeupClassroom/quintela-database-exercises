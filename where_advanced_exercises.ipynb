{
 "cells": [
  {
   "cell_type": "markdown",
   "id": "4936ae2f",
   "metadata": {},
   "source": [
    "# Clauses Exercises"
   ]
  },
  {
   "cell_type": "markdown",
   "id": "590289d5",
   "metadata": {},
   "source": [
    "<hr style=\"border:2px solid gray\">"
   ]
  },
  {
   "cell_type": "markdown",
   "id": "a8e33cf7",
   "metadata": {},
   "source": [
    "1. Find all current or previous employees with first names 'Irena', 'Vidya', or 'Maya' using IN. What is the employee number of the top three results?\n",
    "\n",
    "2. Find all current or previous employees with first names 'Irena', 'Vidya', or 'Maya', as in Q2, but use OR instead of IN. What is the employee number of the top three results? Does it match the previous question?\n",
    "\n",
    "3. Find all current or previous employees with first names 'Irena', 'Vidya', or 'Maya', using OR, and who is male. What is the employee number of the top three results.\n",
    "\n",
    "4. Find all unique last names that start with 'E'.\n",
    "\n",
    "5. Find all unique last names that start or end with 'E'.\n",
    "\n",
    "6. Find all unique last names that end with E, but does not start with E?\n",
    "\n",
    "7. Find all unique last names that start and end with 'E'.\n",
    "\n",
    "8. Find all current or previous employees hired in the 90s. Enter a comment with top three employee numbers.\n",
    "\n",
    "9. Find all current or previous employees born on Christmas. Enter a comment with top three employee numbers.\n",
    "\n",
    "10. Find all current or previous employees hired in the 90s and born on Christmas. Enter a comment with top three employee numbers.\n",
    "\n",
    "11. Find all unique last names that have a 'q' in their last name.\n",
    "\n",
    "12. Find all unique last names that have a 'q' in their last name but not 'qu'."
   ]
  },
  {
   "cell_type": "markdown",
   "id": "b5083672",
   "metadata": {},
   "source": [
    "<hr style=\"border:1px solid black\">\n",
    "<hr style=\"border:1px solid black\">"
   ]
  },
  {
   "cell_type": "markdown",
   "id": "fc8c5402",
   "metadata": {},
   "source": [
    "<b>1. Find all current or previous employees with first names 'Irena', 'Vidya', or 'Maya' using IN. What is the employee number of the top three results?"
   ]
  },
  {
   "cell_type": "code",
   "execution_count": null,
   "id": "378bb221",
   "metadata": {},
   "outputs": [],
   "source": [
    "SELECT *\n",
    "FROM employees\n",
    "WHERE first_name IN ('Irena', 'Vidya', 'Maya');"
   ]
  },
  {
   "cell_type": "markdown",
   "id": "cfe5c4ca",
   "metadata": {},
   "source": [
    "- <b>Answer</b>: 10200, 10397, 10610"
   ]
  },
  {
   "cell_type": "markdown",
   "id": "7dda4e6b",
   "metadata": {},
   "source": [
    "<hr style=\"border:0.5px solid grey\">"
   ]
  },
  {
   "cell_type": "markdown",
   "id": "ebca3c86",
   "metadata": {},
   "source": [
    "<b>2. Find all current or previous employees with first names 'Irena', 'Vidya', or 'Maya' (as in question 1) but use OR instead of IN. What is the employee number of the top three results? Does it match the previous question?"
   ]
  },
  {
   "cell_type": "code",
   "execution_count": null,
   "id": "4680f909",
   "metadata": {},
   "outputs": [],
   "source": [
    "SELECT *\n",
    "FROM employees\n",
    "WHERE first_name = 'Irena' \n",
    "    OR first_name = 'Vidya' \n",
    "    OR first_name =  'Maya';"
   ]
  },
  {
   "cell_type": "markdown",
   "id": "a510d776",
   "metadata": {},
   "source": [
    "- <b>Answer</b>: 10200, 10397, 10610\n",
    "    - yes, they do match. In this instance, you can only have one first name."
   ]
  },
  {
   "cell_type": "markdown",
   "id": "a525714a",
   "metadata": {},
   "source": [
    "<hr style=\"border:0.5px solid grey\">"
   ]
  },
  {
   "cell_type": "markdown",
   "id": "28967ac8",
   "metadata": {},
   "source": [
    "<b>3. Find all current or previous employees with first names 'Irena', 'Vidya', or 'Maya', using OR, and who is male. What is the employee number of the top three results."
   ]
  },
  {
   "cell_type": "code",
   "execution_count": null,
   "id": "70e045fe",
   "metadata": {},
   "outputs": [],
   "source": [
    "SELECT *\n",
    "FROM employees\n",
    "WHERE gender = 'M'\n",
    "AND \n",
    "    (first_name = 'Irena' \n",
    "     OR first_name = 'Vidya' \n",
    "     OR first_name = 'Maya');"
   ]
  },
  {
   "cell_type": "code",
   "execution_count": null,
   "id": "32739da2",
   "metadata": {},
   "outputs": [],
   "source": [
    "SELECT *\n",
    "FROM employees\n",
    "WHERE \n",
    "    (first_name = 'Irena' \n",
    "     OR first_name = 'Vidya' \n",
    "     OR first_name = 'Maya')\n",
    "AND gender = 'M';"
   ]
  },
  {
   "cell_type": "markdown",
   "id": "efcbf4e9",
   "metadata": {},
   "source": [
    "<hr style=\"border:0.5px solid grey\">"
   ]
  },
  {
   "cell_type": "markdown",
   "id": "507e9790",
   "metadata": {},
   "source": [
    "<b>4. Find all unique last names that start with 'E'."
   ]
  },
  {
   "cell_type": "code",
   "execution_count": null,
   "id": "6c771fd6",
   "metadata": {},
   "outputs": [],
   "source": [
    "SELECT DISTINCT last_name\n",
    "FROM employees \n",
    "WHERE last_name LIKE 'E%';"
   ]
  },
  {
   "cell_type": "markdown",
   "id": "ba01190e",
   "metadata": {},
   "source": [
    "<hr style=\"border:0.5px solid grey\">"
   ]
  },
  {
   "cell_type": "markdown",
   "id": "be2cd696",
   "metadata": {},
   "source": [
    "<b>5. Find all unique last names that start <u>or</u> end with 'E'."
   ]
  },
  {
   "cell_type": "code",
   "execution_count": null,
   "id": "4b1e286f",
   "metadata": {},
   "outputs": [],
   "source": [
    "SELECT DISTINCT last_name\n",
    "FROM employees \n",
    "WHERE last_name LIKE 'E%' \n",
    "OR last_name LIKE '%E';"
   ]
  },
  {
   "cell_type": "markdown",
   "id": "d6a4639d",
   "metadata": {},
   "source": [
    "<hr style=\"border:0.5px solid grey\">"
   ]
  },
  {
   "cell_type": "markdown",
   "id": "16047c38",
   "metadata": {},
   "source": [
    "<b>6. Find all unique last names that end with E, but does not start with E?"
   ]
  },
  {
   "cell_type": "code",
   "execution_count": null,
   "id": "af29d580",
   "metadata": {},
   "outputs": [],
   "source": [
    "SELECT DISTINCT last_name\n",
    "FROM employees \n",
    "WHERE last_name LIKE '%E' \n",
    "AND NOT last_name LIKE 'E%';"
   ]
  },
  {
   "cell_type": "markdown",
   "id": "8f4ac341",
   "metadata": {},
   "source": [
    "<hr style=\"border:0.5px solid grey\">"
   ]
  },
  {
   "cell_type": "markdown",
   "id": "3b6f54e4",
   "metadata": {},
   "source": [
    "<b>7. Find all unique last names that start <u>and</u> end with 'E'."
   ]
  },
  {
   "cell_type": "code",
   "execution_count": null,
   "id": "28d08bfa",
   "metadata": {},
   "outputs": [],
   "source": [
    "SELECT *\n",
    "FROM employees \n",
    "WHERE last_name LIKE 'E%' \n",
    "AND last_name LIKE '%E';"
   ]
  },
  {
   "cell_type": "code",
   "execution_count": null,
   "id": "f2bdce20",
   "metadata": {},
   "outputs": [],
   "source": [
    "SELECT DISTINCT last_name\n",
    "FROM employees \n",
    "WHERE last_name LIKE 'E%E' "
   ]
  },
  {
   "cell_type": "markdown",
   "id": "6a00f401",
   "metadata": {},
   "source": [
    "<hr style=\"border:0.5px solid grey\">"
   ]
  },
  {
   "cell_type": "markdown",
   "id": "3524163f",
   "metadata": {},
   "source": [
    "<b>8. Find all current or previous employees hired in the 90s. Enter a comment with top three employee numbers."
   ]
  },
  {
   "cell_type": "code",
   "execution_count": null,
   "id": "8e2b18ce",
   "metadata": {},
   "outputs": [],
   "source": [
    "SELECT *\n",
    "FROM employees \n",
    "WHERE hire_date LIKE '199%';"
   ]
  },
  {
   "cell_type": "code",
   "execution_count": null,
   "id": "9a0a4a20",
   "metadata": {},
   "outputs": [],
   "source": [
    "SELECT * \n",
    "FROM employees\n",
    "WHERE hire_date BETWEEN '1990-01-01' AND '1999-12-31';"
   ]
  },
  {
   "cell_type": "markdown",
   "id": "a1ddcdfa",
   "metadata": {},
   "source": [
    "<hr style=\"border:0.5px solid grey\">"
   ]
  },
  {
   "cell_type": "markdown",
   "id": "4158c12f",
   "metadata": {},
   "source": [
    "<b>9. Find all current or previous employees born on Christmas. Enter a comment with top three employee numbers."
   ]
  },
  {
   "cell_type": "code",
   "execution_count": null,
   "id": "8ec860cd",
   "metadata": {},
   "outputs": [],
   "source": [
    "SELECT *\n",
    "FROM employees\n",
    "WHERE birth_date LIKE '%-12-25';"
   ]
  },
  {
   "cell_type": "markdown",
   "id": "2373dd6f",
   "metadata": {},
   "source": [
    "<hr style=\"border:0.5px solid grey\">"
   ]
  },
  {
   "cell_type": "markdown",
   "id": "867ce7f2",
   "metadata": {},
   "source": [
    "<b>10. Find all current or previous employees hired in the 90s and born on Christmas. Enter a comment with top three employee numbers."
   ]
  },
  {
   "cell_type": "code",
   "execution_count": null,
   "id": "0bab66f2",
   "metadata": {},
   "outputs": [],
   "source": [
    "SELECT *\n",
    "FROM employees\n",
    "WHERE hire_date LIKE '199%' and birth_date LIKE '%-12-25';"
   ]
  },
  {
   "cell_type": "markdown",
   "id": "96fea39d",
   "metadata": {},
   "source": [
    "<hr style=\"border:0.5px solid grey\">"
   ]
  },
  {
   "cell_type": "markdown",
   "id": "2e90abab",
   "metadata": {},
   "source": [
    "<b>11. Find all unique last names that have a 'q' in their last name."
   ]
  },
  {
   "cell_type": "code",
   "execution_count": null,
   "id": "645b0bd3",
   "metadata": {},
   "outputs": [],
   "source": [
    "SELECT DISTINCT last_name\n",
    "FROM employees\n",
    "WHERE last_name LIKE '%q%'SELECT DISTINCT last_name\n",
    "FROM employees\n",
    "WHERE last_name LIKE '%q%'\n",
    "AND NOT last_name like '%qu%';\n"
   ]
  },
  {
   "cell_type": "markdown",
   "id": "474001f1",
   "metadata": {},
   "source": [
    "<hr style=\"border:0.5px solid grey\">"
   ]
  },
  {
   "cell_type": "markdown",
   "id": "60d83aab",
   "metadata": {},
   "source": [
    "<b>12. Find all unique last names that have a 'q' in their last name but not 'qu'."
   ]
  },
  {
   "cell_type": "code",
   "execution_count": null,
   "id": "0d0ae3cc",
   "metadata": {},
   "outputs": [],
   "source": [
    "SELECT DISTINCT last_name\n",
    "FROM employees\n",
    "WHERE last_name LIKE '%q%'\n",
    "AND NOT last_name like '%qu%';"
   ]
  }
 ],
 "metadata": {
  "kernelspec": {
   "display_name": "Python 3 (ipykernel)",
   "language": "python",
   "name": "python3"
  },
  "language_info": {
   "codemirror_mode": {
    "name": "ipython",
    "version": 3
   },
   "file_extension": ".py",
   "mimetype": "text/x-python",
   "name": "python",
   "nbconvert_exporter": "python",
   "pygments_lexer": "ipython3",
   "version": "3.9.13"
  }
 },
 "nbformat": 4,
 "nbformat_minor": 5
}
