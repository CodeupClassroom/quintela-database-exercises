{
 "cells": [
  {
   "cell_type": "markdown",
   "id": "40386360",
   "metadata": {},
   "source": [
    "# Group By Exercises"
   ]
  },
  {
   "cell_type": "markdown",
   "id": "7516b2d6",
   "metadata": {},
   "source": [
    "<hr style=\"border:2px solid gray\">"
   ]
  },
  {
   "cell_type": "markdown",
   "id": "ac8518a6",
   "metadata": {},
   "source": [
    "1. Create a new file named group_by_exercises.sql\n",
    "\n",
    "2. In your script, use DISTINCT to find the unique titles in the titles table. How many unique titles have there ever been? Answer that in a comment in your SQL file.\n",
    "\n",
    "3. Write a query to to find a list of all unique last names of all employees that start and end with 'E' using GROUP BY.\n",
    "\n",
    "4. Write a query to to find all unique combinations of first and last names of all employees whose last names start and end with 'E'.\n",
    "\n",
    "5. Write a query to find the unique last names with a 'q' but not 'qu'. Include those names in a comment in your sql code.\n",
    "\n",
    "6. Add a COUNT() to your results (the query above) to find the number of employees with the same last name.\n",
    "\n",
    "7. Find all all employees with first names 'Irena', 'Vidya', or 'Maya'. Use COUNT(*) and GROUP BY to find the number of employees for each gender with those names.\n",
    "\n",
    "8. Using your query that generates a username for all of the employees, generate a count employees for each unique username.\n",
    "\n",
    "9. From your previous query, are there any duplicate usernames? What is the higest number of times a username shows up? "
   ]
  },
  {
   "cell_type": "markdown",
   "id": "b262d9e4",
   "metadata": {},
   "source": [
    "<hr style=\"border:0.5px solid black\">\n",
    "<hr style=\"border:0.5px solid black\">"
   ]
  },
  {
   "cell_type": "markdown",
   "id": "18f7d3fb",
   "metadata": {},
   "source": [
    "<b>1. Create a new file named group_by_exercises.sql"
   ]
  },
  {
   "cell_type": "code",
   "execution_count": null,
   "id": "74131924",
   "metadata": {},
   "outputs": [],
   "source": [
    "USE employees;"
   ]
  },
  {
   "cell_type": "markdown",
   "id": "1191879b",
   "metadata": {},
   "source": [
    "<hr style=\"border:1px solid black\">"
   ]
  },
  {
   "cell_type": "markdown",
   "id": "5d227614",
   "metadata": {},
   "source": [
    "<b>2. In your script, use DISTINCT to find the unique titles in the titles table. How many unique titles have there ever been? Answer that in a comment in your SQL file."
   ]
  },
  {
   "cell_type": "code",
   "execution_count": null,
   "id": "9e35f91e",
   "metadata": {},
   "outputs": [],
   "source": [
    "#Simpy answering the question\n",
    "select count(DISTINCT title)\n",
    "    AS unique_titles\n",
    "FROM titles;"
   ]
  },
  {
   "cell_type": "code",
   "execution_count": null,
   "id": "616a09c9",
   "metadata": {},
   "outputs": [],
   "source": [
    "#If we want to see what those unique titles actually are\n",
    "SELECT DISTINCT title\n",
    "FROM titles;"
   ]
  },
  {
   "cell_type": "code",
   "execution_count": null,
   "id": "37c84af3",
   "metadata": {},
   "outputs": [],
   "source": [
    "#Now, what if we want a count of each unique title\n",
    "SELECT DISTINCT title, COUNT(*)\n",
    "FROM titles\n",
    "GROUP BY title\n",
    "ORDER BY COUNT(*) DESC;"
   ]
  },
  {
   "cell_type": "markdown",
   "id": "b53a58f0",
   "metadata": {},
   "source": [
    "<b>Answer</b>: 7"
   ]
  },
  {
   "cell_type": "markdown",
   "id": "47580005",
   "metadata": {},
   "source": [
    "<hr style=\"border:1px solid black\">"
   ]
  },
  {
   "cell_type": "markdown",
   "id": "d00b79f6",
   "metadata": {},
   "source": [
    "<b>3. Write a query to find a list of all unique last names of all employees that start and end with 'E' using GROUP BY."
   ]
  },
  {
   "cell_type": "code",
   "execution_count": null,
   "id": "603b1fed",
   "metadata": {},
   "outputs": [],
   "source": [
    "#If I want the names in order\n",
    "SELECT DISTINCT last_name\n",
    "FROM employees\n",
    "WHERE last_name like 'e%e'\n",
    "GROUP BY last_name;"
   ]
  },
  {
   "cell_type": "code",
   "execution_count": null,
   "id": "fe8d0949",
   "metadata": {},
   "outputs": [],
   "source": [
    "#What if I want most frequent last name to least frequent?\n",
    "SELECT DISTINCT last_name, COUNT(*)\n",
    "FROM employees\n",
    "WHERE last_name like 'e%e'\n",
    "GROUP BY last_name\n",
    "ORDER BY COUNT(*) DESC;"
   ]
  },
  {
   "cell_type": "markdown",
   "id": "db5125c7",
   "metadata": {},
   "source": [
    "<b>Answer</b>:\n",
    "- Erbe 186\n",
    "- Erde 185\n",
    "- Erie 180\n",
    "- Eldridge 174\n",
    "- Etalle 174"
   ]
  },
  {
   "cell_type": "markdown",
   "id": "f097f28f",
   "metadata": {},
   "source": [
    "<hr style=\"border:1px solid black\">"
   ]
  },
  {
   "cell_type": "markdown",
   "id": "e831ec6e",
   "metadata": {},
   "source": [
    "<b>4. Write a query to to find all unique combinations of first and last names of all employees whose last names start and end with 'E'."
   ]
  },
  {
   "cell_type": "code",
   "execution_count": null,
   "id": "aa9e868e",
   "metadata": {},
   "outputs": [],
   "source": [
    "#simply answering the question\n",
    "SELECT first_name, \n",
    "    last_name\n",
    "FROM employees\n",
    "WHERE last_name LIKE 'e%e'\n",
    "GROUP BY first_name , last_name;"
   ]
  },
  {
   "cell_type": "code",
   "execution_count": null,
   "id": "f566aa56",
   "metadata": {},
   "outputs": [],
   "source": [
    "#Getting more specific with a count\n",
    "SELECT first_name, \n",
    "    last_name,\n",
    "    COUNT(*) as 'first_last_name_combos'\n",
    "FROM employees\n",
    "WHERE last_name LIKE 'e%e'\n",
    "GROUP BY first_name , last_name;"
   ]
  },
  {
   "cell_type": "code",
   "execution_count": null,
   "id": "ce4e1ca2",
   "metadata": {},
   "outputs": [],
   "source": [
    "#Now, let's put them in order by most common name pair\n",
    "SELECT first_name, \n",
    "    last_name,\n",
    "    COUNT(*) as 'first_last_name_combos'\n",
    "FROM employees\n",
    "WHERE last_name LIKE 'e%e'\n",
    "GROUP BY first_name , last_name\n",
    "ORDER BY first_last_name_combos DESC;"
   ]
  },
  {
   "cell_type": "markdown",
   "id": "9bf2b4ea",
   "metadata": {},
   "source": [
    "<hr style=\"border:1px solid black\">"
   ]
  },
  {
   "cell_type": "markdown",
   "id": "a71334af",
   "metadata": {},
   "source": [
    "<b>5. Write a query to find the unique last names with a 'q' but not 'qu'. Include those names in a comment in your sql code."
   ]
  },
  {
   "cell_type": "code",
   "execution_count": null,
   "id": "a3ab0047",
   "metadata": {},
   "outputs": [],
   "source": [
    "#Simply answering the question\n",
    "SELECT last_name\n",
    "FROM employees\n",
    "WHERE last_name LIKE '%q%'\n",
    "    AND last_name NOT LIKE '%qu%'\n",
    "GROUP BY last_name;"
   ]
  },
  {
   "cell_type": "markdown",
   "id": "03b21e49",
   "metadata": {},
   "source": [
    "<b>Answer</b>:\n",
    "- Chleq\n",
    "- Lindqvist\n",
    "- Qiwen"
   ]
  },
  {
   "cell_type": "markdown",
   "id": "acb04950",
   "metadata": {},
   "source": [
    "<hr style=\"border:1px solid black\">"
   ]
  },
  {
   "cell_type": "markdown",
   "id": "53131638",
   "metadata": {},
   "source": [
    "<b>6. Add a COUNT() to your results (the query above) to find the number of employees with the same last name."
   ]
  },
  {
   "cell_type": "code",
   "execution_count": null,
   "id": "4ce3a8c8",
   "metadata": {},
   "outputs": [],
   "source": [
    "SELECT last_name, \n",
    "    COUNT(last_name) AS 'number_of_employees'\n",
    "FROM employees\n",
    "WHERE last_name LIKE '%q%'\n",
    "    AND last_name NOT LIKE '%qu%'\n",
    "GROUP BY last_name;"
   ]
  },
  {
   "cell_type": "code",
   "execution_count": null,
   "id": "34d46742",
   "metadata": {},
   "outputs": [],
   "source": [
    "#put them in order\n",
    "SELECT last_name, \n",
    "    COUNT(last_name) AS 'number_of_employees'\n",
    "FROM employees\n",
    "WHERE last_name LIKE '%q%'\n",
    "    AND last_name NOT LIKE '%qu%'\n",
    "GROUP BY last_name\n",
    "ORDER BY number_of_employees DESC;"
   ]
  },
  {
   "cell_type": "markdown",
   "id": "40cf31c2",
   "metadata": {},
   "source": [
    "<hr style=\"border:1px solid black\">"
   ]
  },
  {
   "cell_type": "markdown",
   "id": "2ef11be8",
   "metadata": {},
   "source": [
    "<b>7. Find all employees with first names 'Irena', 'Vidya', or 'Maya'. Use COUNT(*) and GROUP BY to find the number of employees for each gender with those names."
   ]
  },
  {
   "cell_type": "code",
   "execution_count": null,
   "id": "3f2a82b4",
   "metadata": {},
   "outputs": [],
   "source": [
    "SELECT gender, \n",
    "    first_name, \n",
    "    COUNT(*) AS 'name_by_gender'\n",
    "FROM employees\n",
    "WHERE first_name IN ('Irene' , 'Vidya', 'Maya')\n",
    "GROUP BY gender, first_name;"
   ]
  },
  {
   "cell_type": "code",
   "execution_count": null,
   "id": "721c0083",
   "metadata": {},
   "outputs": [],
   "source": [
    "#put them in order by most common\n",
    "SELECT gender, \n",
    "    first_name, \n",
    "    COUNT(*) AS 'name_by_gender'\n",
    "FROM employees\n",
    "WHERE first_name IN ('Irene' , 'Vidya', 'Maya')\n",
    "GROUP BY gender, first_name\n",
    "ORDER BY name_by_gender DESC;"
   ]
  },
  {
   "cell_type": "markdown",
   "id": "fff2e971",
   "metadata": {},
   "source": [
    "<hr style=\"border:1px solid black\">"
   ]
  },
  {
   "cell_type": "markdown",
   "id": "705d7682",
   "metadata": {},
   "source": [
    "<b>8. Using your query that generates a username for all of the employees, generate a count employees for each unique username."
   ]
  },
  {
   "cell_type": "code",
   "execution_count": null,
   "id": "19b9df5c",
   "metadata": {},
   "outputs": [],
   "source": [
    "SELECT \n",
    "    LOWER(\n",
    "        CONCAT(\n",
    "            SUBSTR(first_name, 1, 1),\n",
    "            SUBSTR(last_name, 1, 4),\n",
    "            '_',\n",
    "            SUBSTR(birth_date, 6, 2),\n",
    "            SUBSTR(birth_date, 3, 2)\n",
    "        )\n",
    "    ) AS username,\n",
    "    COUNT(*) AS count_of_usernames\n",
    "FROM employees\n",
    "GROUP BY username;"
   ]
  },
  {
   "cell_type": "code",
   "execution_count": null,
   "id": "f877a947",
   "metadata": {},
   "outputs": [],
   "source": [
    "SELECT \n",
    "    LOWER(\n",
    "        CONCAT(\n",
    "            SUBSTR(first_name, 1, 1),\n",
    "            SUBSTR(last_name, 1, 4),\n",
    "            '_',\n",
    "            SUBSTR(birth_date, 6, 2),\n",
    "            SUBSTR(birth_date, 3, 2)\n",
    "        )\n",
    "    ) AS username,\n",
    "    COUNT(*) AS count_of_usernames\n",
    "FROM employees\n",
    "GROUP BY username;"
   ]
  },
  {
   "cell_type": "markdown",
   "id": "4506afd5",
   "metadata": {},
   "source": [
    "<hr style=\"border:1px solid black\">"
   ]
  },
  {
   "cell_type": "markdown",
   "id": "11e78221",
   "metadata": {},
   "source": [
    "<b>9. From your previous query, are there any duplicate usernames? What is the higest number of times a username shows up? "
   ]
  },
  {
   "cell_type": "code",
   "execution_count": null,
   "id": "9c80b8ba",
   "metadata": {},
   "outputs": [],
   "source": [
    "SELECT \n",
    "    LOWER(\n",
    "            CONCAT(\n",
    "                SUBSTR(first_name, 1, 1),\n",
    "                SUBSTR(last_name, 1, 4),\n",
    "                '_',\n",
    "                SUBSTR(birth_date, 6, 2),\n",
    "                SUBSTR(birth_date, 3, 2)\n",
    "                )\n",
    "            ) AS username,\n",
    "            count(*) AS count_of_usernames\n",
    "FROM employees\n",
    "GROUP BY username\n",
    "HAVING count_of_usernames > 1\n",
    "ORDER BY count_of_usernames DESC;"
   ]
  },
  {
   "cell_type": "markdown",
   "id": "77853cfe",
   "metadata": {},
   "source": [
    "<b>Answer</b>: Yes there are duplicates. The highest number of times a username shows up is 6."
   ]
  },
  {
   "cell_type": "markdown",
   "id": "03e568c1",
   "metadata": {},
   "source": [
    "<b>9. Bonus: How many duplicate usernames are there from your previous query?"
   ]
  },
  {
   "cell_type": "code",
   "execution_count": null,
   "id": "f423c854",
   "metadata": {},
   "outputs": [],
   "source": [
    "SELECT COUNT(*) AS num_duplicate_usernames\n",
    "FROM (\n",
    "  SELECT \n",
    "    LOWER(\n",
    "      CONCAT(\n",
    "        SUBSTR(first_name, 1, 1),\n",
    "        SUBSTR(last_name, 1, 4),\n",
    "        '_',\n",
    "        SUBSTR(birth_date, 6, 2),\n",
    "        SUBSTR(birth_date, 3, 2)\n",
    "      )\n",
    "    ) AS username,\n",
    "    COUNT(*) AS count_of_usernames\n",
    "  FROM employees\n",
    "  GROUP BY username\n",
    "  HAVING count_of_usernames > 1\n",
    ") AS subquery;"
   ]
  },
  {
   "cell_type": "markdown",
   "id": "a5973004",
   "metadata": {},
   "source": [
    "<b>Answer</b>: 13,251"
   ]
  }
 ],
 "metadata": {
  "kernelspec": {
   "display_name": "Python 3 (ipykernel)",
   "language": "python",
   "name": "python3"
  },
  "language_info": {
   "codemirror_mode": {
    "name": "ipython",
    "version": 3
   },
   "file_extension": ".py",
   "mimetype": "text/x-python",
   "name": "python",
   "nbconvert_exporter": "python",
   "pygments_lexer": "ipython3",
   "version": "3.9.13"
  }
 },
 "nbformat": 4,
 "nbformat_minor": 5
}
