{
 "cells": [
  {
   "cell_type": "markdown",
   "id": "60f80001",
   "metadata": {},
   "source": [
    "# Basic Statement Exercises"
   ]
  },
  {
   "cell_type": "markdown",
   "id": "c9b26d7d",
   "metadata": {},
   "source": [
    "<hr style=\"border:2px solid gray\">"
   ]
  },
  {
   "cell_type": "markdown",
   "id": "58a812ee",
   "metadata": {},
   "source": [
    "1. Use the albums_db database.\n",
    "\n",
    "2. What is the primary key for the albums table?\n",
    "\n",
    "3. What does the column named 'name' represent?\n",
    "\n",
    "4. What do you think the sales column represents?\n",
    "\n",
    "5. Find the name of all albums by Pink Floyd.\n",
    "\n",
    "6. What is the year Sgt. Pepper's Lonely Hearts Club Band was released?\n",
    "\n",
    "7. What is the genre for the album Nevermind?\n",
    "\n",
    "8. Which albums were released in the 1990s?\n",
    "\n",
    "9. Which albums had less than 20 million certified sales? Rename this column as low_selling_albums."
   ]
  },
  {
   "cell_type": "markdown",
   "id": "d0c94ab5",
   "metadata": {},
   "source": [
    "<hr style=\"border:1px solid black\">\n",
    "<hr style=\"border:1px solid black\">"
   ]
  },
  {
   "cell_type": "markdown",
   "id": "cf6f2ba7",
   "metadata": {},
   "source": [
    "<b>1. Use the albums_db database."
   ]
  },
  {
   "cell_type": "code",
   "execution_count": null,
   "id": "a387458d",
   "metadata": {},
   "outputs": [],
   "source": [
    "USE albums_db;"
   ]
  },
  {
   "cell_type": "markdown",
   "id": "debc96b2",
   "metadata": {},
   "source": [
    "<hr style=\"border:0.5px solid grey\">"
   ]
  },
  {
   "cell_type": "markdown",
   "id": "fa85741b",
   "metadata": {},
   "source": [
    "<b>2. What is the primary key for the albums table?"
   ]
  },
  {
   "cell_type": "code",
   "execution_count": null,
   "id": "3974d9ff",
   "metadata": {},
   "outputs": [],
   "source": [
    "DESCRIBE albums;"
   ]
  },
  {
   "cell_type": "markdown",
   "id": "59af306b",
   "metadata": {},
   "source": [
    "- <b>Answer</b>: primary key is ```id```"
   ]
  },
  {
   "cell_type": "markdown",
   "id": "d2a9aec3",
   "metadata": {},
   "source": [
    "<hr style=\"border:0.5px solid grey\">"
   ]
  },
  {
   "cell_type": "markdown",
   "id": "789101bd",
   "metadata": {},
   "source": [
    "<b>3. What does the column named 'name' represent?"
   ]
  },
  {
   "cell_type": "code",
   "execution_count": null,
   "id": "8b220b5a",
   "metadata": {},
   "outputs": [],
   "source": [
    "SELECT *\n",
    "FROM albums;"
   ]
  },
  {
   "cell_type": "markdown",
   "id": "5019e84e",
   "metadata": {},
   "source": [
    "- <b>Answer</b>: ```name``` refers to the title of that specific album"
   ]
  },
  {
   "cell_type": "markdown",
   "id": "b6247d4d",
   "metadata": {},
   "source": [
    "<hr style=\"border:0.5px solid grey\">"
   ]
  },
  {
   "cell_type": "markdown",
   "id": "f6f6ed65",
   "metadata": {},
   "source": [
    "<b>4. What do you think the sales column represents?"
   ]
  },
  {
   "cell_type": "code",
   "execution_count": null,
   "id": "c345882b",
   "metadata": {},
   "outputs": [],
   "source": [
    "SELECT *\n",
    "FROM albums;"
   ]
  },
  {
   "cell_type": "markdown",
   "id": "e9860d29",
   "metadata": {},
   "source": [
    "- <b>Answer</b>: ```sales``` refers to how many albums were sold (in millions of units)."
   ]
  },
  {
   "cell_type": "markdown",
   "id": "247100ae",
   "metadata": {},
   "source": [
    "<hr style=\"border:0.5px solid grey\">"
   ]
  },
  {
   "cell_type": "markdown",
   "id": "50085d17",
   "metadata": {},
   "source": [
    "<b>5. Find the name of all albums by Pink Floyd."
   ]
  },
  {
   "cell_type": "code",
   "execution_count": null,
   "id": "8beebbcf",
   "metadata": {},
   "outputs": [],
   "source": [
    "SELECT * \n",
    "FROM albums\n",
    "WHERE artist = 'Pink Floyd';"
   ]
  },
  {
   "cell_type": "markdown",
   "id": "bce61119",
   "metadata": {},
   "source": [
    "- <b>Answer</b>: There are only 2 albums by Pink Floyd- \"The dark side of the moon\" and \"The wall\""
   ]
  },
  {
   "cell_type": "markdown",
   "id": "c5fc0259",
   "metadata": {},
   "source": [
    "<hr style=\"border:0.5px solid grey\">"
   ]
  },
  {
   "cell_type": "markdown",
   "id": "39f526d2",
   "metadata": {},
   "source": [
    "<b>6. What is the year Sgt. Pepper's Lonely Hearts Club Band was released?"
   ]
  },
  {
   "cell_type": "code",
   "execution_count": null,
   "id": "5209cd67",
   "metadata": {},
   "outputs": [],
   "source": [
    "SELECT * \n",
    "FROM albums\n",
    "WHERE name = \"Sgt. Pepper's Lonely Hearts Club Band\";"
   ]
  },
  {
   "cell_type": "code",
   "execution_count": null,
   "id": "33df50ff",
   "metadata": {},
   "outputs": [],
   "source": [
    "SELECT release_date \n",
    "FROM albums\n",
    "WHERE name = \"Sgt. Pepper's Lonely Hearts Club Band\";"
   ]
  },
  {
   "cell_type": "markdown",
   "id": "ab1b3106",
   "metadata": {},
   "source": [
    "- <b>Answer</b>: 1967"
   ]
  },
  {
   "cell_type": "markdown",
   "id": "5cb7ee50",
   "metadata": {},
   "source": [
    "<hr style=\"border:0.5px solid grey\">"
   ]
  },
  {
   "cell_type": "markdown",
   "id": "e6205621",
   "metadata": {},
   "source": [
    "<b>7. What is the genre for the album Nevermind?"
   ]
  },
  {
   "cell_type": "code",
   "execution_count": null,
   "id": "80c33100",
   "metadata": {},
   "outputs": [],
   "source": [
    "SELECT * \n",
    "FROM albums\n",
    "WHERE name = 'Nevermind';"
   ]
  },
  {
   "cell_type": "code",
   "execution_count": null,
   "id": "108d6c43",
   "metadata": {},
   "outputs": [],
   "source": [
    "SELECT genre\n",
    "FROM albums\n",
    "WHERE name = 'Nevermind';"
   ]
  },
  {
   "cell_type": "markdown",
   "id": "f8ab9dc5",
   "metadata": {},
   "source": [
    "- <b>Answer</b>: grunge, alterative rock"
   ]
  },
  {
   "cell_type": "markdown",
   "id": "858f7d3c",
   "metadata": {},
   "source": [
    "<hr style=\"border:0.5px solid grey\">"
   ]
  },
  {
   "cell_type": "markdown",
   "id": "f67a538f",
   "metadata": {},
   "source": [
    "<b>8. Which albums were released in the 1990s?"
   ]
  },
  {
   "cell_type": "markdown",
   "id": "15ee46ce",
   "metadata": {},
   "source": [
    "<div class=\"alert alert-block alert-info\">\n",
    "<b>Remember:</b> Between statement is inclusive with numbers (int, float, decimals) but not datetime </div>"
   ]
  },
  {
   "cell_type": "code",
   "execution_count": null,
   "id": "ae1e6603",
   "metadata": {},
   "outputs": [],
   "source": [
    "FROM albums\n",
    "WHERE release_date between 1990 and 1999;"
   ]
  },
  {
   "cell_type": "code",
   "execution_count": null,
   "id": "c8af9f54",
   "metadata": {},
   "outputs": [],
   "source": [
    "SELECT name, release_date\n",
    "FROM albums\n",
    "WHERE release_date >= 1990 AND release_date < 2000;"
   ]
  },
  {
   "cell_type": "markdown",
   "id": "0822751f",
   "metadata": {},
   "source": [
    "- <b>Answer</b>: There are 11 albums released in the 1990s.\n",
    "    - The bodyguard\n",
    "    - Jagged little pill\n",
    "    - Come on over\n",
    "    - Falling into you\n",
    "    - Let's talk about love\n",
    "    - Dangerous\n",
    "    - The immaculate collection\n",
    "    - Titanic\n",
    "    - Metallica\n",
    "    - Nevermind\n",
    "    - Supernatural"
   ]
  },
  {
   "cell_type": "markdown",
   "id": "e4467f28",
   "metadata": {},
   "source": [
    "<hr style=\"border:0.5px solid grey\">"
   ]
  },
  {
   "cell_type": "markdown",
   "id": "6e626a5d",
   "metadata": {},
   "source": [
    "<b>9. Which albums had less than 20 million certified sales? Rename this column as low_selling_albums."
   ]
  },
  {
   "cell_type": "code",
   "execution_count": null,
   "id": "25fe080b",
   "metadata": {},
   "outputs": [],
   "source": [
    "#Part I:\n",
    "SELECT *\n",
    "FROM albums\n",
    "WHERE sales < 20;"
   ]
  },
  {
   "cell_type": "code",
   "execution_count": null,
   "id": "3a100f52",
   "metadata": {},
   "outputs": [],
   "source": [
    "#Part II:\n",
    "SELECT id, artist, name, sales AS low_selling_albums\n",
    "FROM albums\n",
    "where sales < 20;"
   ]
  }
 ],
 "metadata": {
  "kernelspec": {
   "display_name": "Python 3 (ipykernel)",
   "language": "python",
   "name": "python3"
  },
  "language_info": {
   "codemirror_mode": {
    "name": "ipython",
    "version": 3
   },
   "file_extension": ".py",
   "mimetype": "text/x-python",
   "name": "python",
   "nbconvert_exporter": "python",
   "pygments_lexer": "ipython3",
   "version": "3.9.13"
  }
 },
 "nbformat": 4,
 "nbformat_minor": 5
}
