{
 "cells": [
  {
   "cell_type": "markdown",
   "id": "ac35a603",
   "metadata": {},
   "source": [
    "# Database and Tables Exercises"
   ]
  },
  {
   "cell_type": "markdown",
   "id": "9df0715a",
   "metadata": {},
   "source": [
    "<hr style=\"border:2px solid gray\">"
   ]
  },
  {
   "cell_type": "markdown",
   "id": "8b22422a",
   "metadata": {},
   "source": [
    "Questions 1 & 2 should be completed:\n",
    "1. Open MySQL Workbench and login to the database server\n",
    "2. Save your work in a file named db_tables_exercises.sql"
   ]
  },
  {
   "cell_type": "markdown",
   "id": "ff27ef55",
   "metadata": {},
   "source": [
    "Questions 3-15:\n",
    "\n",
    "3. List all the databases\n",
    "4. Write the SQL code necessary to use the albums_db database\n",
    "5. Show the currently selected database\n",
    "6. List all tables in the database\n",
    "7. Write the SQL code to switch the employees database\n",
    "8. Show the currently selected database\n",
    "9. List all the tables in the database\n",
    "10. Explore the employees table. What different data types are present on this table?\n",
    "11. Which table(s) do you think contain a numeric type column? (Write this question and your answer in a comment)\n",
    "12. Which table(s) do you think contain a string type column? (Write this question and your answer in a comment)\n",
    "13. Which table(s) do you think contain a date type column? (Write this question and your answer in a comment)\n",
    "14. What is the relationship between the employees and the departments tables? (Write this question and your answer in a comment)\n",
    "15. Show the SQL that created the dept_manager table. Write the SQL it takes to show this as your exercise solution."
   ]
  },
  {
   "cell_type": "markdown",
   "id": "81580d00",
   "metadata": {},
   "source": [
    "<hr style=\"border:2px solid gray\">"
   ]
  },
  {
   "cell_type": "markdown",
   "id": "7c635800",
   "metadata": {},
   "source": [
    "#### #3. List all the databases"
   ]
  },
  {
   "cell_type": "markdown",
   "id": "4ad2f3de",
   "metadata": {},
   "source": [
    "SHOW DATABASES;"
   ]
  },
  {
   "cell_type": "markdown",
   "id": "75455301",
   "metadata": {},
   "source": [
    "#### #4. Write the SQL code necessary to use the albums_db database"
   ]
  },
  {
   "cell_type": "markdown",
   "id": "50ed79e8",
   "metadata": {},
   "source": [
    "USE albumbs_db;"
   ]
  },
  {
   "cell_type": "markdown",
   "id": "f8982533",
   "metadata": {},
   "source": [
    "#### #5. Show the currently selected database\n"
   ]
  },
  {
   "cell_type": "markdown",
   "id": "83b9ed5d",
   "metadata": {},
   "source": [
    "SELECT database();"
   ]
  },
  {
   "cell_type": "markdown",
   "id": "2a90278c",
   "metadata": {},
   "source": [
    "#### #6. List all tables in the database\n"
   ]
  },
  {
   "cell_type": "markdown",
   "id": "00fc1e79",
   "metadata": {},
   "source": [
    "SHOW TABLES;"
   ]
  },
  {
   "cell_type": "markdown",
   "id": "5035b0b6",
   "metadata": {},
   "source": [
    "#### #7. Write the SQL code to switch the employees database\n"
   ]
  },
  {
   "cell_type": "markdown",
   "id": "c56f4ea7",
   "metadata": {},
   "source": [
    "USE employees;"
   ]
  },
  {
   "cell_type": "markdown",
   "id": "c07fccc8",
   "metadata": {},
   "source": [
    "#### #8. Show the currently selected database"
   ]
  },
  {
   "cell_type": "markdown",
   "id": "48915acc",
   "metadata": {},
   "source": [
    "SELECT database();"
   ]
  },
  {
   "cell_type": "markdown",
   "id": "127ce64e",
   "metadata": {},
   "source": [
    "#### #9. List all the tables in the database"
   ]
  },
  {
   "cell_type": "markdown",
   "id": "c698dc63",
   "metadata": {},
   "source": [
    "SHOW tables;"
   ]
  },
  {
   "cell_type": "markdown",
   "id": "13aa0fd9",
   "metadata": {},
   "source": [
    "#### #10. Explore the employees table. What different data types are present on this table?"
   ]
  },
  {
   "cell_type": "markdown",
   "id": "1c26c9d2",
   "metadata": {},
   "source": [
    "- <b>Option 1</b>:\n",
    "SHOW CREATE database employees;"
   ]
  },
  {
   "cell_type": "markdown",
   "id": "6269dc01",
   "metadata": {},
   "source": [
    "- <b>Option 2</b>:\n",
    "DESCRIBE employees;"
   ]
  },
  {
   "cell_type": "markdown",
   "id": "c24e3c2c",
   "metadata": {},
   "source": [
    "- <b>Option 3</b>: \n",
    "Go to employees database and look at 'structure'"
   ]
  },
  {
   "cell_type": "markdown",
   "id": "a4531564",
   "metadata": {},
   "source": [
    "#### #11. Which table(s) do you think contain a numeric type column? (Write this question and your answer in a comment)"
   ]
  },
  {
   "cell_type": "markdown",
   "id": "93e9f5aa",
   "metadata": {},
   "source": [
    "<div class=\"alert alert-block alert-info\">\n",
    "<b>Remember:</b> Numeric type columns include:\n",
    "\n",
    "<br>\n",
    "\n",
    "<u>INT</u>:  Any number without a decimal point.\n",
    "<br>\n",
    "<u>FLOAT</u>: A number with decimal values.\n",
    "<br>\n",
    "<u>DECIMAL(length, precision)</u>: A precise decimal number.  Length is the total number of digits that will be stored for a value, and precision is the number of digits after the decimal place.\n",
    "</div>"
   ]
  },
  {
   "cell_type": "markdown",
   "id": "dff1d0e4",
   "metadata": {},
   "source": [
    "Available tables within employees:\n",
    "- departments\n",
    "- dept_emp\n",
    "- dept_manager\n",
    "- employees\n",
    "- salaries\n",
    "- titles\n",
    "\n",
    "Answer:\n",
    "- ALL OF THEM (due to the primary key)"
   ]
  },
  {
   "cell_type": "markdown",
   "id": "8388e26a",
   "metadata": {},
   "source": [
    "#### #12. Which table(s) do you think contain a string type column? (Write this question and your answer in a comment)"
   ]
  },
  {
   "cell_type": "markdown",
   "id": "37219f07",
   "metadata": {},
   "source": [
    "<div class=\"alert alert-block alert-info\">\n",
    "<b>Remember:</b> String type columns include:\n",
    "\n",
    "<br>\n",
    "\n",
    "<u>CHAR(length)</u>: A string with a fixed number of characters, where length can be from 1 to 255.\n",
    "<br>\n",
    "<u>VARCHAR(length)</u>: A string where the length could vary from 256 - 65,535 characters.\n",
    "<br>\n",
    "<u>TEXT</u> — A large block of characters than can be any length\n",
    "</div>"
   ]
  },
  {
   "cell_type": "markdown",
   "id": "c9be904a",
   "metadata": {},
   "source": [
    "- departments\n",
    "- dept_emp\n",
    "- dept_manager\n",
    "- employees\n",
    "- title"
   ]
  },
  {
   "cell_type": "markdown",
   "id": "115bead1",
   "metadata": {},
   "source": [
    "#### #13. Which table(s) do you think contain a date type column? (Write this question and your answer in a comment)"
   ]
  },
  {
   "cell_type": "markdown",
   "id": "5c5d42db",
   "metadata": {},
   "source": [
    "<div class=\"alert alert-block alert-info\">\n",
    "<b>Remember:</b> Date type columns include:\n",
    "<br>\n",
    "\n",
    "<u>DATE</u> — A date value without any time. Typically MySQL displays dates as YYYY-MM-DD.\n",
    "<br>\n",
    "<u>TIME</u> — A time down to the seconds. MySQL uses 24-hour times.\n",
    "<br>\n",
    "<u>DATETIME</u> — A combined date and time value. \n",
    "</div>"
   ]
  },
  {
   "cell_type": "markdown",
   "id": "23f128fb",
   "metadata": {},
   "source": [
    "- dept_emp\n",
    "- dept_manager\n",
    "- employees\n",
    "- salaries \n",
    "- title"
   ]
  },
  {
   "cell_type": "markdown",
   "id": "a57f6e29",
   "metadata": {},
   "source": [
    "#### #14. What is the relationship between the employees and the departments tables? (Write this question and your answer in a comment)"
   ]
  },
  {
   "cell_type": "markdown",
   "id": "c3c32743",
   "metadata": {},
   "source": [
    "There is no DIRECT connection between the two tables\n",
    "<br>\n",
    "\n",
    "- ```employees``` table has the following columns: \n",
    "    - emp_no\n",
    "    - birth_date\n",
    "    - first_name\n",
    "    - last_name\n",
    "    - gender\n",
    "    - hire_date\n",
    "\n",
    "\n",
    "- ```department``` tables has the following columns:\n",
    "    - dept_no\n",
    "    - dept_name\n",
    "<br>\n",
    "\n",
    "BUT we can use other tables to join these tables together!"
   ]
  },
  {
   "cell_type": "markdown",
   "id": "f8c5cba2",
   "metadata": {},
   "source": [
    "#### #15. Show the SQL that created the dept_manager table. Write the SQL it takes to show this as your exercise solution."
   ]
  },
  {
   "cell_type": "markdown",
   "id": "422cf7fd",
   "metadata": {},
   "source": [
    "SHOW CREATE TABLE dept_manager;"
   ]
  },
  {
   "cell_type": "markdown",
   "id": "be2dd89b",
   "metadata": {},
   "source": [
    "<b>the query returned is</b>:"
   ]
  },
  {
   "cell_type": "markdown",
   "id": "ad11d47b",
   "metadata": {},
   "source": [
    "CREATE TABLE `dept_manager` (\n",
    "  `emp_no` int NOT NULL,\n",
    "  `dept_no` char(4) NOT NULL,\n",
    "  `from_date` date NOT NULL,\n",
    "  `to_date` date NOT NULL,\n",
    "  PRIMARY KEY (`emp_no`,`dept_no`),\n",
    "  KEY `dept_no` (`dept_no`),\n",
    "  CONSTRAINT `dept_manager_ibfk_1` FOREIGN KEY (`emp_no`) REFERENCES `employees` (`emp_no`) ON DELETE CASCADE ON UPDATE RESTRICT,\n",
    "  CONSTRAINT `dept_manager_ibfk_2` FOREIGN KEY (`dept_no`) REFERENCES `departments` (`dept_no`) ON DELETE CASCADE ON UPDATE RESTRICT\n",
    ") ENGINE=InnoDB DEFAULT CHARSET=latin1"
   ]
  }
 ],
 "metadata": {
  "kernelspec": {
   "display_name": "Python 3 (ipykernel)",
   "language": "python",
   "name": "python3"
  },
  "language_info": {
   "codemirror_mode": {
    "name": "ipython",
    "version": 3
   },
   "file_extension": ".py",
   "mimetype": "text/x-python",
   "name": "python",
   "nbconvert_exporter": "python",
   "pygments_lexer": "ipython3",
   "version": "3.9.13"
  }
 },
 "nbformat": 4,
 "nbformat_minor": 5
}
