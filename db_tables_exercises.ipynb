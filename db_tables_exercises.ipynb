{
 "cells": [
  {
   "cell_type": "markdown",
   "id": "24e2263f",
   "metadata": {},
   "source": [
    "# Database and Tables Exercises"
   ]
  },
  {
   "cell_type": "markdown",
   "id": "a8995561",
   "metadata": {},
   "source": [
    "<hr style=\"border:2px solid gray\">"
   ]
  },
  {
   "cell_type": "markdown",
   "id": "e3d8f7b9",
   "metadata": {},
   "source": [
    "Questions 1 & 2 should be completed:\n",
    "1. Open MySQL Workbench and login to the database server\n",
    "2. Save your work in a file named db_tables_exercises.sql"
   ]
  },
  {
   "cell_type": "markdown",
   "id": "0b0ee7b2",
   "metadata": {},
   "source": [
    "Questions 3-15:\n",
    "\n",
    "3. List all the databases\n",
    "4. Write the SQL code necessary to use the albums_db database\n",
    "5. Show the currently selected database\n",
    "6. List all tables in the database\n",
    "7. Write the SQL code to switch the employees database\n",
    "8. Show the currently selected database\n",
    "9. List all the tables in the database\n",
    "10. Explore the employees table. What different data types are present on this table?\n",
    "11. Which table(s) do you think contain a numeric type column? (Write this question and your answer in a comment)\n",
    "12. Which table(s) do you think contain a string type column? (Write this question and your answer in a comment)\n",
    "13. Which table(s) do you think contain a date type column? (Write this question and your answer in a comment)\n",
    "14. What is the relationship between the employees and the departments tables? (Write this question and your answer in a comment)\n",
    "15. Show the SQL that created the dept_manager table. Write the SQL it takes to show this as your exercise solution."
   ]
  },
  {
   "cell_type": "markdown",
   "id": "e4661624",
   "metadata": {},
   "source": [
    "<hr style=\"border:2px solid gray\">"
   ]
  },
  {
   "cell_type": "markdown",
   "id": "bd33e6b0",
   "metadata": {},
   "source": [
    "#### #3. List all the databases"
   ]
  },
  {
   "cell_type": "raw",
   "id": "c2011f1f",
   "metadata": {},
   "source": [
    "SHOW DATABASES;"
   ]
  },
  {
   "cell_type": "markdown",
   "id": "ba4de90c",
   "metadata": {},
   "source": [
    "#### #4. Write the SQL code necessary to use the albums_db database"
   ]
  },
  {
   "cell_type": "raw",
   "id": "902806b0",
   "metadata": {},
   "source": [
    "USE albumbs_db;"
   ]
  },
  {
   "cell_type": "markdown",
   "id": "6705c8c2",
   "metadata": {},
   "source": [
    "#### #5. Show the currently selected database\n"
   ]
  },
  {
   "cell_type": "raw",
   "id": "c67c9d1d",
   "metadata": {},
   "source": [
    "SELECT database();"
   ]
  },
  {
   "cell_type": "markdown",
   "id": "f6b07e47",
   "metadata": {},
   "source": [
    "#### #6. List all tables in the database\n"
   ]
  },
  {
   "cell_type": "raw",
   "id": "53795694",
   "metadata": {},
   "source": [
    "SHOW TABLES;"
   ]
  },
  {
   "cell_type": "markdown",
   "id": "6d67d839",
   "metadata": {},
   "source": [
    "#### #7. Write the SQL code to switch the employees database\n"
   ]
  },
  {
   "cell_type": "raw",
   "id": "97d0d863",
   "metadata": {},
   "source": [
    "USE employees;"
   ]
  },
  {
   "cell_type": "markdown",
   "id": "94cedf40",
   "metadata": {},
   "source": [
    "#### #8. Show the currently selected database"
   ]
  },
  {
   "cell_type": "raw",
   "id": "561ddddb",
   "metadata": {},
   "source": [
    "SELECT database();"
   ]
  },
  {
   "cell_type": "markdown",
   "id": "fee16e42",
   "metadata": {},
   "source": [
    "#### #9. List all the tables in the database"
   ]
  },
  {
   "cell_type": "raw",
   "id": "53b4d295",
   "metadata": {},
   "source": [
    "SHOW tables;"
   ]
  },
  {
   "cell_type": "markdown",
   "id": "fbb25527",
   "metadata": {},
   "source": [
    "#### #10. Explore the employees table. What different data types are present on this table?"
   ]
  },
  {
   "cell_type": "markdown",
   "id": "3e4e0047",
   "metadata": {},
   "source": [
    "- <b>Option 1</b>:\n",
    "SHOW CREATE database employees;"
   ]
  },
  {
   "cell_type": "markdown",
   "id": "4f83832e",
   "metadata": {},
   "source": [
    "- <b>Option 2</b>:\n",
    "DESCRIBE employees;"
   ]
  },
  {
   "cell_type": "markdown",
   "id": "878f430b",
   "metadata": {},
   "source": [
    "- <b>Option 3</b>: \n",
    "Go to employees database and look at 'structure'"
   ]
  },
  {
   "cell_type": "markdown",
   "id": "bc1cfe3b",
   "metadata": {},
   "source": [
    "#### #11. Which table(s) do you think contain a numeric type column? (Write this question and your answer in a comment)"
   ]
  },
  {
   "cell_type": "markdown",
   "id": "29f777bb",
   "metadata": {},
   "source": [
    "<div class=\"alert alert-block alert-info\">\n",
    "<b>Remember:</b> Numeric type columns include:\n",
    "\n",
    "<br>\n",
    "\n",
    "<u>INT</u>:  Any number without a decimal point.\n",
    "<br>\n",
    "<u>FLOAT</u>: A number with decimal values.\n",
    "<br>\n",
    "<u>DECIMAL(length, precision)</u>: A precise decimal number.  Length is the total number of digits that will be stored for a value, and precision is the number of digits after the decimal place.\n",
    "</div>"
   ]
  },
  {
   "cell_type": "markdown",
   "id": "41b802aa",
   "metadata": {},
   "source": [
    "Available tables within employees:\n",
    "- departments\n",
    "- dept_emp\n",
    "- dept_manager\n",
    "- employees\n",
    "- salaries\n",
    "- titles\n",
    "\n",
    "Answer:\n",
    "- ALL OF THEM (due to the primary key)"
   ]
  },
  {
   "cell_type": "markdown",
   "id": "65511bd5",
   "metadata": {},
   "source": [
    "#### #12. Which table(s) do you think contain a string type column? (Write this question and your answer in a comment)"
   ]
  },
  {
   "cell_type": "markdown",
   "id": "9f4bd120",
   "metadata": {},
   "source": [
    "<div class=\"alert alert-block alert-info\">\n",
    "<b>Remember:</b> String type columns include:\n",
    "\n",
    "<br>\n",
    "\n",
    "<u>CHAR(length)</u>: A string with a fixed number of characters, where length can be from 1 to 255.\n",
    "<br>\n",
    "<u>VARCHAR(length)</u>: A string where the length could vary from 256 - 65,535 characters.\n",
    "<br>\n",
    "<u>TEXT</u> — A large block of characters than can be any length\n",
    "</div>"
   ]
  },
  {
   "cell_type": "markdown",
   "id": "617ce51f",
   "metadata": {},
   "source": [
    "- departments\n",
    "- dept_emp\n",
    "- dept_manager\n",
    "- employees\n",
    "- title"
   ]
  },
  {
   "cell_type": "markdown",
   "id": "1d55ef96",
   "metadata": {},
   "source": [
    "#### #13. Which table(s) do you think contain a date type column? (Write this question and your answer in a comment)"
   ]
  },
  {
   "cell_type": "markdown",
   "id": "7b2c00ba",
   "metadata": {},
   "source": [
    "<div class=\"alert alert-block alert-info\">\n",
    "<b>Remember:</b> Date type columns include:\n",
    "<br>\n",
    "\n",
    "<u>DATE</u> — A date value without any time. Typically MySQL displays dates as YYYY-MM-DD.\n",
    "<br>\n",
    "<u>TIME</u> — A time down to the seconds. MySQL uses 24-hour times.\n",
    "<br>\n",
    "<u>DATETIME</u> — A combined date and time value. \n",
    "</div>"
   ]
  },
  {
   "cell_type": "markdown",
   "id": "7b487d03",
   "metadata": {},
   "source": [
    "- dept_emp\n",
    "- dept_manager\n",
    "- employees\n",
    "- salaries \n",
    "- title"
   ]
  },
  {
   "cell_type": "markdown",
   "id": "e38fb163",
   "metadata": {},
   "source": [
    "#### #14. What is the relationship between the employees and the departments tables? (Write this question and your answer in a comment)"
   ]
  },
  {
   "cell_type": "markdown",
   "id": "0cb86367",
   "metadata": {},
   "source": [
    "There is no DIRECT connection between the two tables\n",
    "<br>\n",
    "\n",
    "- ```employees``` table has the following columns: \n",
    "    - emp_no\n",
    "    - birth_date\n",
    "    - first_name\n",
    "    - last_name\n",
    "    - gender\n",
    "    - hire_date\n",
    "\n",
    "\n",
    "- ```department``` tables has the following columns:\n",
    "    - dept_no\n",
    "    - dept_name\n",
    "<br>\n",
    "\n",
    "BUT we can use other tables to join these tables together!"
   ]
  },
  {
   "cell_type": "markdown",
   "id": "0805f5c8",
   "metadata": {},
   "source": [
    "#### #15. Show the SQL that created the dept_manager table. Write the SQL it takes to show this as your exercise solution."
   ]
  },
  {
   "cell_type": "raw",
   "id": "d8c7d8b1",
   "metadata": {},
   "source": [
    "SHOW CREATE TABLE dept_manager;"
   ]
  },
  {
   "cell_type": "markdown",
   "id": "e5597813",
   "metadata": {},
   "source": [
    "<b>the query returned is</b>:"
   ]
  },
  {
   "cell_type": "raw",
   "id": "13e3d897",
   "metadata": {},
   "source": [
    "CREATE TABLE `dept_manager` (\n",
    "  `emp_no` int NOT NULL,\n",
    "  `dept_no` char(4) NOT NULL,\n",
    "  `from_date` date NOT NULL,\n",
    "  `to_date` date NOT NULL,\n",
    "  PRIMARY KEY (`emp_no`,`dept_no`),\n",
    "  KEY `dept_no` (`dept_no`),\n",
    "  CONSTRAINT `dept_manager_ibfk_1` FOREIGN KEY (`emp_no`) REFERENCES `employees` (`emp_no`) ON DELETE CASCADE ON UPDATE RESTRICT,\n",
    "  CONSTRAINT `dept_manager_ibfk_2` FOREIGN KEY (`dept_no`) REFERENCES `departments` (`dept_no`) ON DELETE CASCADE ON UPDATE RESTRICT\n",
    ") ENGINE=InnoDB DEFAULT CHARSET=latin1"
   ]
  }
 ],
 "metadata": {
  "kernelspec": {
   "display_name": "Python 3 (ipykernel)",
   "language": "python",
   "name": "python3"
  },
  "language_info": {
   "codemirror_mode": {
    "name": "ipython",
    "version": 3
   },
   "file_extension": ".py",
   "mimetype": "text/x-python",
   "name": "python",
   "nbconvert_exporter": "python",
   "pygments_lexer": "ipython3",
   "version": "3.9.13"
  }
 },
 "nbformat": 4,
 "nbformat_minor": 5
}
