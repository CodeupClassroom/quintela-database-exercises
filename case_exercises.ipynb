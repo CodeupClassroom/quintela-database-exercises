{
 "cells": [
  {
   "cell_type": "markdown",
   "id": "2461b228",
   "metadata": {},
   "source": [
    "# Case Exercises"
   ]
  },
  {
   "cell_type": "markdown",
   "id": "0c8c49df",
   "metadata": {},
   "source": [
    "<hr style=\"border:2px solid gray\">"
   ]
  },
  {
   "cell_type": "markdown",
   "id": "4e97d3eb",
   "metadata": {},
   "source": [
    "1. Write a query that returns all employees, their department number, their start date, their end date, and a new column 'is_current_employee' that is a 1 if the employee is still with the company and 0 if not. DO NOT WORRY ABOUT DUPLICATE EMPLOYEES.\n",
    "\n",
    "2. Write a query that returns all employee names (previous and current), and a new column 'alpha_group' that returns 'A-H', 'I-Q', or 'R-Z' depending on the first letter of their last name.\n",
    "\n",
    "3. How many employees (current or previous) were born in each decade?\n",
    "\n",
    "4. What is the current average salary for each of the following department groups: R&D, Sales & Marketing, Prod & QM, Finance & HR, Customer Service?"
   ]
  },
  {
   "cell_type": "markdown",
   "id": "8ece9e17",
   "metadata": {},
   "source": [
    "<hr style=\"border:1px solid black\">\n",
    "<hr style=\"border:1px solid black\">"
   ]
  },
  {
   "cell_type": "markdown",
   "id": "842f75dd",
   "metadata": {},
   "source": [
    "<b>1. Write a query that returns all employees, their department number, their start date, their end date, and a new column 'is_current_employee' that is a 1 if the employee is still with the company and 0 if not. DO NOT WORRY ABOUT DUPLICATE EMPLOYEES."
   ]
  },
  {
   "cell_type": "code",
   "execution_count": null,
   "id": "4a1483d0",
   "metadata": {},
   "outputs": [],
   "source": [
    "#using case\n",
    "SELECT \n",
    "    emp_no, \n",
    "    dept_no, \n",
    "    from_date AS start_date, \n",
    "    to_date AS end_date,\n",
    "        CASE \n",
    "            WHEN to_date > NOW() THEN 1 \n",
    "            ELSE 0 \n",
    "        END AS is_current_employee\n",
    "    FROM dept_emp;"
   ]
  },
  {
   "cell_type": "code",
   "execution_count": null,
   "id": "7c2fe12b",
   "metadata": {},
   "outputs": [],
   "source": [
    "#using 'if' instead of 'case'\n",
    "SELECT \n",
    "    emp_no, \n",
    "    dept_no, \n",
    "    from_date AS start_date, \n",
    "    to_date AS end_date,\n",
    "        IF(to_date > NOW(),1,0) AS is_current_employee\n",
    "    FROM dept_emp;"
   ]
  },
  {
   "cell_type": "markdown",
   "id": "f555b783",
   "metadata": {},
   "source": [
    "<hr style=\"border:0.5px solid grey\">"
   ]
  },
  {
   "cell_type": "markdown",
   "id": "db656fee",
   "metadata": {},
   "source": [
    "<b>2. Write a query that returns all employee names (previous and current), and a new column 'alpha_group' that returns 'A-H', 'I-Q', or 'R-Z' depending on the first letter of their last name."
   ]
  },
  {
   "cell_type": "code",
   "execution_count": null,
   "id": "062c49e8",
   "metadata": {},
   "outputs": [],
   "source": [
    "SELECT\n",
    "    first_name,\n",
    "    last_name,\n",
    "    LEFT(last_name, 1) AS first_letter_of_last_name,\n",
    "    CASE\n",
    "        WHEN LEFT(last_name, 1) <= 'H' THEN 'A-H'\n",
    "        WHEN SUBSTR(last_name, 1, 1) <= 'Q' THEN 'I-Q'\n",
    "        WHEN LEFT(last_name, 1) <= 'Z' THEN 'R-Z'\n",
    "        ELSE 'other'\n",
    "    END AS alpha_group\n",
    "FROM employees;"
   ]
  },
  {
   "cell_type": "code",
   "execution_count": null,
   "id": "39653ff0",
   "metadata": {},
   "outputs": [],
   "source": [
    "#another way\n",
    "SELECT last_name,\n",
    "    LEFT(last_name, 1) AS first_letter_of_last_name,\n",
    "    CASE\n",
    "        WHEN last_name BETWEEN 'a%' AND 'i%' THEN 'A_H_last_name'\n",
    "        WHEN last_name BETWEEN 'i%'AND 'r%' THEN 'I_Q_last_name'\n",
    "        WHEN last_name BETWEEN 'r%' AND 'zz%' THEN 'R-Z_last_name'\n",
    "        ELSE 'other'\n",
    "    END AS alpha_group\n",
    "FROM employees;"
   ]
  },
  {
   "cell_type": "code",
   "execution_count": null,
   "id": "0c672b0a",
   "metadata": {},
   "outputs": [],
   "source": [
    "#another way\n",
    "SELECT last_name,\n",
    "    CASE\n",
    "        WHEN substr(last_name, 1,1) BETWEEN 'a' AND 'h' THEN 'A_H_last_name'\n",
    "        WHEN substr(last_name, 1,1) BETWEEN 'i'AND 'q' THEN 'I_Q_last_name'\n",
    "        WHEN substr(last_name, 1,1) BETWEEN 'r' AND 'z' THEN 'R-Z_last_name'\n",
    "        ELSE 'other'\n",
    "    END AS alpha_group\n",
    "FROM employees;"
   ]
  },
  {
   "cell_type": "markdown",
   "id": "447d054c",
   "metadata": {},
   "source": [
    "<hr style=\"border:0.5px solid grey\">"
   ]
  },
  {
   "cell_type": "markdown",
   "id": "b266d128",
   "metadata": {},
   "source": [
    "<b>3. How many employees (current or previous) were born in each decade?"
   ]
  },
  {
   "cell_type": "code",
   "execution_count": null,
   "id": "81dc4ed0",
   "metadata": {},
   "outputs": [],
   "source": [
    "SELECT\n",
    "    COUNT(CASE WHEN birth_date LIKE '195%' THEN birth_date ELSE NULL END) AS '50s',\n",
    "    COUNT(CASE WHEN birth_date LIKE '196%' THEN birth_date ELSE NULL END) AS '60s'\n",
    "FROM employees;"
   ]
  },
  {
   "cell_type": "code",
   "execution_count": null,
   "id": "e14b7c59",
   "metadata": {},
   "outputs": [],
   "source": [
    "#another way\n",
    "SELECT \n",
    "    CASE\n",
    "        WHEN birth_date LIKE '195%' THEN 'born_in_1950s'\n",
    "        WHEN birth_date LIKE '196%' THEN 'born_in_1960s'\n",
    "        ELSE 'other'\n",
    "        END AS employees_born_per_decade,\n",
    "    count(*) AS count_per_decade\n",
    "    FROM employees\n",
    "    GROUP BY employees_born_per_decade\n",
    "    ORDER BY count_per_decade;"
   ]
  },
  {
   "cell_type": "code",
   "execution_count": null,
   "id": "e89f4e87",
   "metadata": {},
   "outputs": [],
   "source": [
    "#another way not using case\n",
    "SELECT\n",
    "    CONCAT(SUBSTR(birth_date, 1, 3), '0') as decade,\n",
    "    COUNT(*)\n",
    "FROM employees\n",
    "GROUP BY decade;"
   ]
  },
  {
   "cell_type": "markdown",
   "id": "5c331fb2",
   "metadata": {},
   "source": [
    "<b>Answer</b>:\n",
    "- 117,138 born in 1960s\n",
    "- 182,886 born in 1950s"
   ]
  },
  {
   "cell_type": "markdown",
   "id": "fba3166e",
   "metadata": {},
   "source": [
    "<hr style=\"border:0.5px solid grey\">"
   ]
  },
  {
   "cell_type": "markdown",
   "id": "7e229f68",
   "metadata": {},
   "source": [
    "<b>4. What is the current average salary for each of the following department groups: R&D, Sales & Marketing, Prod & QM, Finance & HR, Customer Service?"
   ]
  },
  {
   "cell_type": "code",
   "execution_count": null,
   "id": "8d4b294f",
   "metadata": {},
   "outputs": [],
   "source": [
    "SELECT\n",
    "    CASE\n",
    "        WHEN d.dept_name IN ('Research', 'Development') THEN 'R&D'\n",
    "        WHEN d.dept_name IN ('Sales', 'Marketing') THEN 'Sales & Marketing'\n",
    "        WHEN d.dept_name IN ('Production', 'Quality Management') THEN 'Prod & QM'\n",
    "        WHEN d.dept_name IN ('Finance', 'Human Resources') THEN 'Finanace & HR'\n",
    "        ELSE d.dept_name\n",
    "    END AS dept_group, salary\n",
    "FROM departments d\n",
    "    JOIN dept_emp de USING (dept_no)\n",
    "    JOIN salaries s USING (emp_no)\n",
    "WHERE s.to_date > NOW() AND de.to_date > NOW();"
   ]
  },
  {
   "cell_type": "code",
   "execution_count": null,
   "id": "7397128d",
   "metadata": {},
   "outputs": [],
   "source": [
    "SELECT ROUND(AVG(salary),2) AS average_salary,\n",
    "    CASE \n",
    "        WHEN dept_name IN ('research', 'development') THEN 'R&D'\n",
    "        WHEN dept_name IN ('sales', 'marketing') THEN 'Sales & Marketing' \n",
    "        WHEN dept_name IN ('Production', 'Quality Management') THEN 'Prod & QM'\n",
    "        WHEN dept_name IN ('Customer Service') THEN 'Customer Service' \n",
    "        WHEN dept_name IN ('Finance', 'Human Resources') THEN 'Finance & HR'\n",
    "        ELSE dept_name\n",
    "    END AS dept_group\n",
    "\n",
    "FROM departments\n",
    "    JOIN dept_emp USING (dept_no)\n",
    "    JOIN employees USING (emp_no)\n",
    "    JOIN salaries USING (emp_no)\n",
    "\n",
    "GROUP BY dept_name\n",
    "ORDER BY average_salary DESC;"
   ]
  },
  {
   "cell_type": "markdown",
   "id": "cbd9455c",
   "metadata": {},
   "source": [
    "<hr style=\"border:0.5px solid grey\">"
   ]
  },
  {
   "cell_type": "markdown",
   "id": "27ffbf53",
   "metadata": {},
   "source": [
    "<b>Bonus: Remove duplicate employees from exercise 1."
   ]
  },
  {
   "cell_type": "code",
   "execution_count": null,
   "id": "a3dd2fd4",
   "metadata": {},
   "outputs": [],
   "source": []
  }
 ],
 "metadata": {
  "kernelspec": {
   "display_name": "Python 3 (ipykernel)",
   "language": "python",
   "name": "python3"
  },
  "language_info": {
   "codemirror_mode": {
    "name": "ipython",
    "version": 3
   },
   "file_extension": ".py",
   "mimetype": "text/x-python",
   "name": "python",
   "nbconvert_exporter": "python",
   "pygments_lexer": "ipython3",
   "version": "3.9.13"
  }
 },
 "nbformat": 4,
 "nbformat_minor": 5
}
