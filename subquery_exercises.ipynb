{
 "cells": [
  {
   "cell_type": "markdown",
   "id": "c21a4a41",
   "metadata": {},
   "source": [
    "# Subquery Exercises"
   ]
  },
  {
   "cell_type": "markdown",
   "id": "0e8b0fce",
   "metadata": {},
   "source": [
    "<hr style=\"border:2px solid gray\">"
   ]
  },
  {
   "cell_type": "markdown",
   "id": "2ee7e9cb",
   "metadata": {},
   "source": [
    "1. Find all the current employees with the same hire date as employee 101010 using a subquery.\n",
    "\n",
    "2. Find all the titles ever held by all current employees with the first name Aamod.\n",
    "\n",
    "3. How many people in the employees table are no longer working for the company? Give the answer in a comment in your code.\n",
    "\n",
    "4. Find all the current department managers that are female. List their names in a comment in your code.\n",
    "\n",
    "5. Find all the employees who currently have a higher salary than the companies overall, historical average salary.\n",
    "\n",
    "6. How many current salaries are within 1 standard deviation of the current highest salary? (Hint: you can use a built in function to calculate the standard deviation.) What percentage of all salaries is this?\n",
    "    - Hint You will likely use multiple subqueries in a variety of ways\n",
    "    - Hint It's a good practice to write out all of the small queries that you can. Add a comment above the query showing the number of rows returned. You will use this number (or the query that produced it) in other, larger queries."
   ]
  },
  {
   "cell_type": "markdown",
   "id": "f83dfae3",
   "metadata": {},
   "source": [
    "<b> Subquery BONUS</b>\n",
    "\n",
    "1. Find all the department names that currently have female managers.\n",
    "2. Find the first and last name of the employee with the highest salary.\n",
    "3. Find the department name that the employee with the highest salary works in.\n",
    "4. Who is the highest paid employee within each department."
   ]
  },
  {
   "cell_type": "markdown",
   "id": "19499634",
   "metadata": {},
   "source": [
    "<hr style=\"border:1px solid black\">\n",
    "<hr style=\"border:1px solid black\">"
   ]
  },
  {
   "cell_type": "markdown",
   "id": "708fe4c3",
   "metadata": {},
   "source": [
    "### Exercises"
   ]
  },
  {
   "cell_type": "markdown",
   "id": "e626b1ce",
   "metadata": {},
   "source": [
    "<b>1. Find all the current employees with the same hire date as employee 101010 using a subquery."
   ]
  },
  {
   "cell_type": "code",
   "execution_count": null,
   "id": "accb8fa8",
   "metadata": {},
   "outputs": [],
   "source": [
    "SELECT *\n",
    "FROM employees\n",
    "JOIN dept_emp USING(emp_no)\n",
    "WHERE to_date > now()\n",
    "AND hire_date =\n",
    "    (SELECT hire_date\n",
    "    FROM employees\n",
    "    WHERE emp_no = 101010);"
   ]
  },
  {
   "cell_type": "code",
   "execution_count": null,
   "id": "02c15ae3",
   "metadata": {},
   "outputs": [],
   "source": [
    "#check our work\n",
    "SELECT hire_date\n",
    "FROM employees\n",
    "WHERE emp_no = 101010;"
   ]
  },
  {
   "cell_type": "markdown",
   "id": "b706fbaa",
   "metadata": {},
   "source": [
    "<div class=\"alert alert-block alert-info\">\n",
    "<b>Note:</b>\n",
    "    \n",
    "One way that we can check our work is to run that subquery alone and determine what the actual hire date for employee #101010 is. \n",
    "\n",
    "Employee #101010's hire date is 1990-10-22\n",
    "\n",
    "So, if the query above gives us all the same hire dates as that employee... we are good to go!\n",
    "    \n",
    "</div>"
   ]
  },
  {
   "cell_type": "markdown",
   "id": "951241ac",
   "metadata": {},
   "source": [
    "<hr style=\"border:0.5px solid grey\">"
   ]
  },
  {
   "cell_type": "markdown",
   "id": "cbf24d0b",
   "metadata": {},
   "source": [
    "<b>2. Find all the titles ever held by all current employees with the first name Aamod."
   ]
  },
  {
   "cell_type": "code",
   "execution_count": null,
   "id": "3892668a",
   "metadata": {},
   "outputs": [],
   "source": [
    "SELECT DISTINCT title\n",
    "FROM titles\n",
    "WHERE emp_no IN (\n",
    "   SELECT emp_no\n",
    "   FROM employees\n",
    "   JOIN dept_emp USING(emp_no)\n",
    "   WHERE first_name = 'aamod'\n",
    "   AND to_date > now()\n",
    ");"
   ]
  },
  {
   "cell_type": "code",
   "execution_count": null,
   "id": "872ac650",
   "metadata": {},
   "outputs": [],
   "source": []
  },
  {
   "cell_type": "markdown",
   "id": "0be601a3",
   "metadata": {},
   "source": [
    "<hr style=\"border:0.5px solid grey\">"
   ]
  },
  {
   "cell_type": "markdown",
   "id": "71066f88",
   "metadata": {},
   "source": [
    "<b>3. How many people in the employees table are no longer working for the company? Give the answer in a comment in your code."
   ]
  },
  {
   "cell_type": "code",
   "execution_count": null,
   "id": "2649184d",
   "metadata": {},
   "outputs": [],
   "source": [
    "SELECT count(*) # count all the records\n",
    "FROM employees # from the employees table\n",
    "WHERE emp_no NOT IN \n",
    "    (SELECT emp_no\n",
    "    FROM dept_emp\n",
    "    WHERE to_date > NOW()\n",
    ");"
   ]
  },
  {
   "cell_type": "code",
   "execution_count": null,
   "id": "9310d5a8",
   "metadata": {},
   "outputs": [],
   "source": [
    "##Same solution using 'salaries' table\n",
    "SELECT count(*)\n",
    "FROM employees\n",
    "WHERE emp_no NOT IN \n",
    "    (SELECT emp_no\n",
    "    FROM salaries\n",
    "    WHERE to_date > now()\n",
    ");"
   ]
  },
  {
   "cell_type": "markdown",
   "id": "a106f4b6",
   "metadata": {},
   "source": [
    "<b>Answer</b>:  59,900"
   ]
  },
  {
   "cell_type": "markdown",
   "id": "067d8eb9",
   "metadata": {},
   "source": [
    "<div class=\"alert alert-block alert-info\">\n",
    "<b>Note:</b>\n",
    "    \n",
    "We can use employees table or salaries table in our subquery because they both give us to_date. By saying NOT IN we are telling SQL that those are employees that no longer work for that company."
   ]
  },
  {
   "cell_type": "markdown",
   "id": "24cc5359",
   "metadata": {},
   "source": [
    "<hr style=\"border:0.5px solid grey\">"
   ]
  },
  {
   "cell_type": "markdown",
   "id": "0a65e792",
   "metadata": {},
   "source": [
    "<b>4. Find all the current department managers that are female. List their names in a comment in your code."
   ]
  },
  {
   "cell_type": "code",
   "execution_count": null,
   "id": "319a1a41",
   "metadata": {},
   "outputs": [],
   "source": [
    "SELECT *\n",
    "FROM employees\n",
    "WHERE emp_no in (\n",
    "    SELECT emp_no\n",
    "       FROM dept_manager\n",
    "          WHERE to_date > now()\n",
    ")\n",
    "AND gender = \"F\";"
   ]
  },
  {
   "cell_type": "markdown",
   "id": "8cb00055",
   "metadata": {},
   "source": [
    "<b>Answer</b>: \n",
    "- Isamu Legleitner\n",
    "- Karsten Sigstam\n",
    "- Leon DasSarma\n",
    "- Hilary Kambil"
   ]
  },
  {
   "cell_type": "markdown",
   "id": "2b0a75e6",
   "metadata": {},
   "source": [
    "<hr style=\"border:0.5px solid grey\">"
   ]
  },
  {
   "cell_type": "markdown",
   "id": "7cae32e0",
   "metadata": {},
   "source": [
    "<b>5. Find all the employees who currently have a higher salary than the companies overall, historical average salary."
   ]
  },
  {
   "cell_type": "code",
   "execution_count": null,
   "id": "a661e6f4",
   "metadata": {},
   "outputs": [],
   "source": [
    "SELECT emp_no, salary\n",
    "FROM salaries s\n",
    "JOIN employees e using(emp_no)\n",
    "WHERE to_date > now() \n",
    "AND  salary > (SELECT AVG(salary) FROM salaries);"
   ]
  },
  {
   "cell_type": "code",
   "execution_count": null,
   "id": "31e84e56",
   "metadata": {},
   "outputs": [],
   "source": [
    "#double check by seeing what avg salary is\n",
    "SELECT Round(AVG(salary),0) \n",
    "FROM salaries;"
   ]
  },
  {
   "cell_type": "markdown",
   "id": "ee87fb80",
   "metadata": {},
   "source": [
    "<b>Answer</b>: 154,543 employees who currently have a higher salary then company average."
   ]
  },
  {
   "cell_type": "markdown",
   "id": "2fe80b34",
   "metadata": {},
   "source": [
    "<div class=\"alert alert-block alert-info\">\n",
    "<b>Note:</b>\n",
    "    \n",
    "One way that we can check our work is to find the overall, historic average salary.\n",
    "\n",
    "Average salary was $63,811\n",
    "\n",
    "So, if the query above gives us salaries above that, we are on the right track!\n",
    "    \n",
    "</div>"
   ]
  },
  {
   "cell_type": "markdown",
   "id": "5e90f849",
   "metadata": {},
   "source": [
    "<hr style=\"border:0.5px solid grey\">"
   ]
  },
  {
   "cell_type": "markdown",
   "id": "c7854e97",
   "metadata": {},
   "source": [
    "<b>6. How many current salaries are within 1 standard deviation of the current highest salary? (Hint: you can use a built in function to calculate the standard deviation.) What percentage of all salaries is this?</b>\n",
    "   - Hint: You will likely use multiple subqueries in a variety of ways\n",
    "   - Hint: It's a good practice to write out all of the small queries that you can. Add a comment above the query showing the number of rows returned. You will use this number (or the query that produced it) in other, larger queries."
   ]
  },
  {
   "cell_type": "code",
   "execution_count": null,
   "id": "455f5ed6",
   "metadata": {},
   "outputs": [],
   "source": [
    "#First, what is the max current salary\n",
    "SELECT MAX(salary) \n",
    "FROM salaries \n",
    "WHERE to_date > now();\n",
    "\n",
    "# $158,220 is the max current salary"
   ]
  },
  {
   "cell_type": "code",
   "execution_count": null,
   "id": "acd92a55",
   "metadata": {},
   "outputs": [],
   "source": [
    "#Second, what is 1 std for current salary\n",
    "SELECT STDDEV(salary) \n",
    "FROM salaries \n",
    "WHERE to_date > now();\n",
    "\n",
    "# $17,309 is one STD from the salary"
   ]
  },
  {
   "cell_type": "code",
   "execution_count": null,
   "id": "9b62ad9d",
   "metadata": {},
   "outputs": [],
   "source": [
    "#Count of current salaries > (Max-1 std). (count = 83)\n",
    "SELECT count(*)\n",
    "FROM salaries\n",
    "WHERE to_date > now()\n",
    "AND salary > (\n",
    "(SELECT MAX(salary) FROM salaries WHERE to_date > now()) - \n",
    "(SELECT STDDEV(salary) FROM salaries WHERE to_date > now())\n",
    ");"
   ]
  },
  {
   "cell_type": "markdown",
   "id": "b3373159",
   "metadata": {},
   "source": [
    "<div class=\"alert alert-block alert-info\">\n",
    "<b>Note:</b>\n",
    "    \n",
    "Here we are saying: give me a count for all the <u>current</u> salaries where the salary is <u>greater</u> than the max salary (158K) minus the std (17K).\n",
    "    \n",
    "So, a count of employees who make more than 141K\n",
    "</div>"
   ]
  },
  {
   "cell_type": "code",
   "execution_count": null,
   "id": "a29bbee3",
   "metadata": {},
   "outputs": [],
   "source": [
    "#Denominator, count of all current salaries (240,124)\n",
    "SELECT count(*)\n",
    "FROM salaries \n",
    "WHERE to_date > now();"
   ]
  },
  {
   "cell_type": "code",
   "execution_count": null,
   "id": "86fec0dc",
   "metadata": {},
   "outputs": [],
   "source": [
    "#What percentage of all salaries is this?\n",
    "#SELECT (Numerator-83)/ (Denominator-240124)\n",
    "\n",
    "SELECT((SELECT count(*)\n",
    "FROM salaries\n",
    "WHERE to_date > now()\n",
    "AND salary > (\n",
    "(SELECT MAX(salary) FROM salaries WHERE to_date > now()) - \n",
    "(SELECT STD(salary) FROM salaries WHERE to_date > now())\n",
    "))/(SELECT count(*)\n",
    "FROM salaries \n",
    "WHERE to_date > now())) * 100 AS \"percentage of salaries within 1 Stdev of Max\";"
   ]
  },
  {
   "cell_type": "markdown",
   "id": "f8af98e3",
   "metadata": {},
   "source": [
    "<hr style=\"border:1px solid black\">"
   ]
  },
  {
   "cell_type": "markdown",
   "id": "efcbcd35",
   "metadata": {},
   "source": [
    "### Subquery BONUS Exercises"
   ]
  },
  {
   "cell_type": "markdown",
   "id": "18d87b4f",
   "metadata": {},
   "source": [
    "<b>1. Find all the department names that currently have female managers."
   ]
  },
  {
   "cell_type": "code",
   "execution_count": null,
   "id": "24bc54c8",
   "metadata": {},
   "outputs": [],
   "source": [
    "SELECT dept_name\n",
    "FROM departments\n",
    "WHERE dept_no IN (\n",
    "  SELECT dept_no\n",
    "  FROM dept_manager\n",
    "  WHERE emp_no IN (\n",
    "    SELECT emp_no\n",
    "    FROM employees\n",
    "    WHERE gender = 'F'\n",
    "  )\n",
    "  AND to_date > NOW()\n",
    ");"
   ]
  },
  {
   "cell_type": "markdown",
   "id": "034dcb1f",
   "metadata": {},
   "source": [
    "<hr style=\"border:0.5px solid grey\">"
   ]
  },
  {
   "cell_type": "markdown",
   "id": "e92165ac",
   "metadata": {},
   "source": [
    "<b>2. Find the first and last name of the employee with the highest salary."
   ]
  },
  {
   "cell_type": "code",
   "execution_count": null,
   "id": "b46de6f1",
   "metadata": {},
   "outputs": [],
   "source": [
    "SELECT first_name, last_name\n",
    "FROM employees\n",
    "WHERE emp_no IN (\n",
    "  SELECT emp_no\n",
    "  FROM salaries\n",
    "  WHERE salary = (\n",
    "    SELECT MAX(salary)\n",
    "    FROM salaries\n",
    "  )\n",
    ");"
   ]
  },
  {
   "cell_type": "markdown",
   "id": "d02ab344",
   "metadata": {},
   "source": [
    "<hr style=\"border:0.5px solid grey\">"
   ]
  },
  {
   "cell_type": "markdown",
   "id": "fb7b2028",
   "metadata": {},
   "source": [
    "<b>3. Find the department name that the employee with the highest salary works in."
   ]
  },
  {
   "cell_type": "code",
   "execution_count": null,
   "id": "59d91a86",
   "metadata": {},
   "outputs": [],
   "source": [
    "SELECT d.dept_name\n",
    "FROM departments d\n",
    "JOIN dept_emp de ON d.dept_no = de.dept_no\n",
    "JOIN (\n",
    "  SELECT emp_no\n",
    "  FROM salaries\n",
    "  WHERE salary = (\n",
    "    SELECT MAX(salary)\n",
    "    FROM salaries\n",
    "  )\n",
    ") s ON de.emp_no = s.emp_no\n",
    "LIMIT 1;"
   ]
  },
  {
   "cell_type": "markdown",
   "id": "bcdfdaa9",
   "metadata": {},
   "source": [
    "<hr style=\"border:0.5px solid grey\">"
   ]
  },
  {
   "cell_type": "markdown",
   "id": "60d43415",
   "metadata": {},
   "source": [
    "<b>4. Who is the highest paid employee within each department."
   ]
  },
  {
   "cell_type": "code",
   "execution_count": null,
   "id": "87be4ddc",
   "metadata": {},
   "outputs": [],
   "source": [
    "SELECT d.dept_name, e.first_name, e.last_name, s.salary\n",
    "FROM departments d\n",
    "    JOIN dept_emp de USING(dept_no)\n",
    "    JOIN employees e USING(emp_no)\n",
    "    JOIN salaries s USING(emp_no)\n",
    "WHERE s.salary IN (\n",
    "  SELECT MAX(salary)\n",
    "  FROM salaries\n",
    "  GROUP BY d.dept_no\n",
    ")\n",
    "ORDER BY d.dept_name, s.salary DESC;"
   ]
  },
  {
   "cell_type": "markdown",
   "id": "b39b01aa",
   "metadata": {},
   "source": [
    "<hr style=\"border:0.5px solid grey\">"
   ]
  },
  {
   "cell_type": "markdown",
   "id": "1ffdc6d1",
   "metadata": {},
   "source": [
    "<hr style=\"border:0.5px solid grey\">"
   ]
  }
 ],
 "metadata": {
  "kernelspec": {
   "display_name": "Python 3 (ipykernel)",
   "language": "python",
   "name": "python3"
  },
  "language_info": {
   "codemirror_mode": {
    "name": "ipython",
    "version": 3
   },
   "file_extension": ".py",
   "mimetype": "text/x-python",
   "name": "python",
   "nbconvert_exporter": "python",
   "pygments_lexer": "ipython3",
   "version": "3.9.13"
  }
 },
 "nbformat": 4,
 "nbformat_minor": 5
}
