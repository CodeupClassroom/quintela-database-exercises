{
 "cells": [
  {
   "cell_type": "markdown",
   "id": "173eafdf",
   "metadata": {},
   "source": [
    "# Join Exercises"
   ]
  },
  {
   "cell_type": "markdown",
   "id": "d055e5b3",
   "metadata": {},
   "source": [
    "<hr style=\"border:2px solid gray\">"
   ]
  },
  {
   "cell_type": "markdown",
   "id": "b3598769",
   "metadata": {},
   "source": [
    "### Join Example Database"
   ]
  },
  {
   "cell_type": "markdown",
   "id": "efd565d9",
   "metadata": {},
   "source": [
    "1. Use the ```join_example_db```. Select all the records from both the users and roles tables.\n",
    "\n",
    "2. Use join, left join, and right join to combine results from the ```users``` and ```roles``` tables as we did in the lesson. Before you run each query, guess the expected number of results.\n",
    "\n",
    "3. Although not explicitly covered in the lesson, aggregate functions like count can be used with join queries. Use count and the appropriate join type to get a list of roles along with the number of users that has the role. Hint: You will also need to use ```group by``` in the query."
   ]
  },
  {
   "cell_type": "markdown",
   "id": "eee66696",
   "metadata": {},
   "source": [
    "### Employees Database"
   ]
  },
  {
   "cell_type": "markdown",
   "id": "7b0dd4f0",
   "metadata": {},
   "source": [
    "1. Use the employees database.\n",
    "\n",
    "2. Using the example in the Associative Table Joins section as a guide, write a query that shows each department along with the name of the current manager for that department.\n",
    "\n",
    "3. Find the name of all departments currently managed by women.\n",
    "\n",
    "4. Find the current titles of employees currently working in the Customer Service department.\n",
    "\n",
    "5. Find the current salary of all current managers.\n",
    "\n",
    "6. Find the number of current employees in each department.\n",
    "\n",
    "7. Which department has the highest average salary? Hint: Use current not historic information.\n",
    "    \n",
    "8. Who is the highest paid employee in the Marketing department?\n",
    "\n",
    "9. Which current department manager has the highest salary?\n",
    "\n",
    "10. Determine the average salary for each department. Use all salary information and round your results.\n",
    "\n",
    "11. Bonus Find the names of all current employees, their department name, and their current manager's name."
   ]
  },
  {
   "cell_type": "markdown",
   "id": "cf85ca3e",
   "metadata": {},
   "source": [
    "<hr style=\"border:0.5px solid black\">\n",
    "<hr style=\"border:0.5px solid black\">"
   ]
  },
  {
   "cell_type": "markdown",
   "id": "b32126ff",
   "metadata": {},
   "source": [
    "## Join Example Database"
   ]
  },
  {
   "cell_type": "markdown",
   "id": "3008a8aa",
   "metadata": {},
   "source": [
    "<b>1. Use the ```join_example_db```. Select all the records from both the users and roles tables."
   ]
  },
  {
   "cell_type": "code",
   "execution_count": null,
   "id": "f2ffe4b5",
   "metadata": {},
   "outputs": [],
   "source": [
    "USE join_example_db;"
   ]
  },
  {
   "cell_type": "markdown",
   "id": "4814cf6c",
   "metadata": {},
   "source": [
    "We are returned two tables: roles and users"
   ]
  },
  {
   "cell_type": "code",
   "execution_count": null,
   "id": "54a55de6",
   "metadata": {},
   "outputs": [],
   "source": [
    "#take a look at the roles table\n",
    "SELECT *\n",
    "FROM roles;"
   ]
  },
  {
   "cell_type": "markdown",
   "id": "a4ae8cd7",
   "metadata": {},
   "source": [
    "```roles``` has two columns: id and name"
   ]
  },
  {
   "cell_type": "code",
   "execution_count": null,
   "id": "c241fc1a",
   "metadata": {},
   "outputs": [],
   "source": [
    "DESCRIBE roles;"
   ]
  },
  {
   "cell_type": "markdown",
   "id": "f660bb6c",
   "metadata": {},
   "source": [
    "We can see that ```id``` is the primary key"
   ]
  },
  {
   "cell_type": "code",
   "execution_count": null,
   "id": "c3c8cd35",
   "metadata": {},
   "outputs": [],
   "source": [
    "#now, take a look at the users table\n",
    "SELECT *\n",
    "FROM users;"
   ]
  },
  {
   "cell_type": "markdown",
   "id": "bc01670c",
   "metadata": {},
   "source": [
    "```users``` has four columns: id, name, email, role_id"
   ]
  },
  {
   "cell_type": "code",
   "execution_count": null,
   "id": "9b6978aa",
   "metadata": {},
   "outputs": [],
   "source": [
    "DESCRIBE users;"
   ]
  },
  {
   "cell_type": "markdown",
   "id": "10838249",
   "metadata": {},
   "source": [
    "We can see that ```id``` is the primary key here as well"
   ]
  },
  {
   "cell_type": "markdown",
   "id": "c3b0cf96",
   "metadata": {},
   "source": [
    "<hr style=\"border:0.5px solid grey\">"
   ]
  },
  {
   "cell_type": "markdown",
   "id": "fde45808",
   "metadata": {},
   "source": [
    "<b>2. Use join, left join, and right join to combine results from the ```users``` and ```roles``` tables as we did in the lesson. Before you run each query, guess the expected number of results."
   ]
  },
  {
   "cell_type": "code",
   "execution_count": null,
   "id": "d55045f8",
   "metadata": {},
   "outputs": [],
   "source": [
    "#join\n",
    "SELECT *\n",
    "FROM users\n",
    "JOIN roles ON users.role_id = roles.id;"
   ]
  },
  {
   "cell_type": "code",
   "execution_count": null,
   "id": "8232d8cd",
   "metadata": {},
   "outputs": [],
   "source": [
    "#left join\n",
    "SELECT *\n",
    "FROM users\n",
    "left JOIN roles ON users.role_id = roles.id;"
   ]
  },
  {
   "cell_type": "markdown",
   "id": "e6ea678a",
   "metadata": {},
   "source": [
    "Now, we are seeing that there are null values from the right table in rows 5 and 6"
   ]
  },
  {
   "cell_type": "code",
   "execution_count": null,
   "id": "aedeb137",
   "metadata": {},
   "outputs": [],
   "source": [
    "#right join\n",
    "SELECT *\n",
    "FROM users\n",
    "right JOIN roles ON users.role_id = roles.id"
   ]
  },
  {
   "cell_type": "markdown",
   "id": "1e572ac3",
   "metadata": {},
   "source": [
    "Also, we are seeing that there are null values from the left table in row 5"
   ]
  },
  {
   "cell_type": "markdown",
   "id": "d401116f",
   "metadata": {},
   "source": [
    "<hr style=\"border:0.5px solid grey\">"
   ]
  },
  {
   "cell_type": "markdown",
   "id": "47ee7a70",
   "metadata": {},
   "source": [
    "<b>3. Although not explicitly covered in the lesson, aggregate functions like count can be used with join queries. Use count and the appropriate join type to get a list of roles along with the number of users that has the role. Hint: You will also need to use ```group by``` in the query."
   ]
  },
  {
   "cell_type": "code",
   "execution_count": null,
   "id": "41f85978",
   "metadata": {},
   "outputs": [],
   "source": [
    "SELECT count(*), roles.name\n",
    "FROM users\n",
    "JOIN roles ON users.role_id = roles.id\n",
    "GROUP BY roles.name;"
   ]
  },
  {
   "cell_type": "markdown",
   "id": "d31e6bab",
   "metadata": {},
   "source": [
    "<hr style=\"border:1px solid black\">"
   ]
  },
  {
   "cell_type": "markdown",
   "id": "d4ca5270",
   "metadata": {},
   "source": [
    "## Employees Database"
   ]
  },
  {
   "cell_type": "markdown",
   "id": "8b11e506",
   "metadata": {},
   "source": [
    "<b>1. Use the employees database."
   ]
  },
  {
   "cell_type": "code",
   "execution_count": null,
   "id": "21cbec17",
   "metadata": {},
   "outputs": [],
   "source": [
    "USE employees;"
   ]
  },
  {
   "cell_type": "markdown",
   "id": "7e14064c",
   "metadata": {},
   "source": [
    "<hr style=\"border:0.5px solid grey\">"
   ]
  },
  {
   "cell_type": "markdown",
   "id": "af641d38",
   "metadata": {},
   "source": [
    "<b>2. Using the example in the Associative Table Joins section as a guide, write a query that shows each department along with the name of the current manager for that department."
   ]
  },
  {
   "cell_type": "code",
   "execution_count": null,
   "id": "37584107",
   "metadata": {},
   "outputs": [],
   "source": [
    "#example join 'on'\n",
    "SELECT dept_name AS 'Department Name', CONCAT(e.first_name, ' ', e.last_name) AS 'Department Manager'\n",
    "FROM departments AS d\n",
    "    JOIN dept_manager as dm ON d.dept_no = dm.dept_no\n",
    "    JOIN employees AS e ON dm.emp_no = e.emp_no\n",
    "WHERE to_date > NOW()\n",
    "ORDER BY dept_name;"
   ]
  },
  {
   "cell_type": "code",
   "execution_count": null,
   "id": "518130d0",
   "metadata": {},
   "outputs": [],
   "source": [
    "#example joining with 'using'\n",
    "SELECT dept_name AS 'Department Name', CONCAT(e.first_name, ' ', e.last_name) AS 'Department Manager'\n",
    "FROM departments AS d\n",
    "    JOIN dept_manager AS dm USING (dept_no)\n",
    "    JOIN employees AS e USING (emp_no)\n",
    "WHERE to_date > NOW()\n",
    "ORDER BY dept_name;"
   ]
  },
  {
   "cell_type": "markdown",
   "id": "751edaac",
   "metadata": {},
   "source": [
    "<hr style=\"border:0.5px solid grey\">"
   ]
  },
  {
   "cell_type": "markdown",
   "id": "bdbc357e",
   "metadata": {},
   "source": [
    "<b>3. Find the name of all departments currently managed by women."
   ]
  },
  {
   "cell_type": "code",
   "execution_count": null,
   "id": "3cf58771",
   "metadata": {},
   "outputs": [],
   "source": [
    "SELECT dept_name AS 'Department Name', CONCAT(first_name, ' ', last_name) AS 'Manager Name'\n",
    "FROM departments AS d\n",
    "    JOIN dept_manager AS dm ON d.dept_no = dm.dept_no\n",
    "    JOIN employees AS e ON dm.emp_no = e.emp_no\n",
    "WHERE to_date > NOW() AND gender LIKE 'F'\n",
    "ORDER BY dept_name;"
   ]
  },
  {
   "cell_type": "markdown",
   "id": "d1005a31",
   "metadata": {},
   "source": [
    "<hr style=\"border:0.5px solid grey\">"
   ]
  },
  {
   "cell_type": "markdown",
   "id": "4f5add3d",
   "metadata": {},
   "source": [
    "<b>4. Find the current titles of employees currently working in the Customer Service department."
   ]
  },
  {
   "cell_type": "code",
   "execution_count": null,
   "id": "3a2439ad",
   "metadata": {},
   "outputs": [],
   "source": [
    "#join with 'on'\n",
    "SELECT title AS Title, count(*) AS Count\n",
    "FROM departments AS d\n",
    "    JOIN dept_emp AS de ON d.dept_no = de.dept_no\n",
    "    JOIN employees AS e ON de.emp_no = e.emp_no\n",
    "    JOIN titles AS t ON e.emp_no = t.emp_no\n",
    "WHERE dept_name LIKE 'Customer Service' AND de.to_date > NOW() AND t.to_date > NOW()\n",
    "GROUP BY title\n",
    "ORDER by title;"
   ]
  },
  {
   "cell_type": "code",
   "execution_count": null,
   "id": "026787df",
   "metadata": {},
   "outputs": [],
   "source": [
    "#join with 'using'\n",
    "SELECT title AS Title, count(*) AS Count\n",
    "FROM departments AS d\n",
    "    JOIN dept_emp AS de USING (dept_no)\n",
    "    JOIN employees AS e USING(emp_no)\n",
    "    JOIN titles AS t USING(emp_no)\n",
    "WHERE dept_name LIKE 'Customer Service' AND de.to_date > NOW() AND t.to_date > NOW()\n",
    "GROUP BY title\n",
    "ORDER by title;"
   ]
  },
  {
   "cell_type": "code",
   "execution_count": null,
   "id": "84ebda49",
   "metadata": {},
   "outputs": [],
   "source": [
    "#joining to titles first instead of departments\n",
    "SELECT title, COUNT(*)\n",
    "FROM titles\n",
    "    JOIN dept_emp ON titles.emp_no = dept_emp.emp_no\n",
    "    JOIN departments ON departments.dept_no = dept_emp.dept_no\n",
    "WHERE dept_emp.to_date > NOW()\n",
    "AND titles.to_date > NOW()\n",
    "AND dept_name = 'Customer Service'\n",
    "GROUP BY title\n",
    "ORDER by title;"
   ]
  },
  {
   "cell_type": "markdown",
   "id": "e4c7a042",
   "metadata": {},
   "source": [
    "<hr style=\"border:0.5px solid grey\">"
   ]
  },
  {
   "cell_type": "markdown",
   "id": "561ecc52",
   "metadata": {},
   "source": [
    "<b>5. Find the current salary of all current managers."
   ]
  },
  {
   "cell_type": "code",
   "execution_count": null,
   "id": "78b2e7b4",
   "metadata": {},
   "outputs": [],
   "source": [
    "SELECT dept_name AS 'Department Name', CONCAT(first_name, ' ', last_name) AS 'Name', salary AS Salary\n",
    "FROM departments\n",
    "    JOIN dept_manager ON departments.dept_no = dept_manager.dept_no\n",
    "    JOIN employees ON dept_manager.emp_no = employees.emp_no\n",
    "    JOIN salaries ON employees.emp_no = salaries.emp_no\n",
    "WHERE dept_manager.to_date > NOW() AND salaries.to_date > NOW()\n",
    "ORDER BY dept_name;"
   ]
  },
  {
   "cell_type": "markdown",
   "id": "05a0097c",
   "metadata": {},
   "source": [
    "<hr style=\"border:0.5px solid grey\">"
   ]
  },
  {
   "cell_type": "markdown",
   "id": "fb022b86",
   "metadata": {},
   "source": [
    "<b>6. Find the number of current employees in each department."
   ]
  },
  {
   "cell_type": "code",
   "execution_count": null,
   "id": "c0d7f25c",
   "metadata": {},
   "outputs": [],
   "source": [
    "SELECT dept_emp.dept_no,dept_name, count(*) AS num_employees\n",
    "FROM dept_emp\n",
    "    JOIN departments ON dept_emp.dept_no = departments.dept_no\n",
    "WHERE dept_emp.to_date > NOW()\n",
    "GROUP BY dept_emp.dept_no, dept_name\n",
    "ORDER BY dept_no;"
   ]
  },
  {
   "cell_type": "markdown",
   "id": "527e5796",
   "metadata": {},
   "source": [
    "<hr style=\"border:0.5px solid grey\">"
   ]
  },
  {
   "cell_type": "markdown",
   "id": "c06c730a",
   "metadata": {},
   "source": [
    "<b>7. Which department has the highest average salary? Hint: Use current not historic information."
   ]
  },
  {
   "cell_type": "code",
   "execution_count": null,
   "id": "c8fb1af2",
   "metadata": {},
   "outputs": [],
   "source": [
    "SELECT dept_name, AVG(salary) AS average_salary\n",
    "FROM departments\n",
    "    JOIN dept_emp ON departments.dept_no = dept_emp.dept_no\n",
    "    JOIN employees ON dept_emp.emp_no = employees.emp_no\n",
    "    JOIN salaries ON employees.emp_no = salaries.emp_no\n",
    "WHERE dept_emp.to_date > NOW() AND salaries.to_date > NOW()\n",
    "GROUP BY dept_name\n",
    "ORDER BY average_salary DESC\n",
    "LIMIT 1;"
   ]
  },
  {
   "cell_type": "code",
   "execution_count": null,
   "id": "bf19fb2b",
   "metadata": {},
   "outputs": [],
   "source": [
    "SELECT dept_name, AVG(salary) AS average_salary\n",
    "FROM departments\n",
    "    JOIN dept_emp ON departments.dept_no = dept_emp.dept_no\n",
    "    JOIN salaries ON dept_emp.emp_no = salaries.emp_no\n",
    "WHERE dept_emp.to_date > NOW() AND salaries.to_date > NOW()\n",
    "GROUP BY dept_name\n",
    "ORDER BY average_salary DESC\n",
    "LIMIT 1;"
   ]
  },
  {
   "cell_type": "markdown",
   "id": "fed9405f",
   "metadata": {},
   "source": [
    "<b>Answer</b>: Sales with average salary of $88,853"
   ]
  },
  {
   "cell_type": "markdown",
   "id": "13c05e24",
   "metadata": {},
   "source": [
    "<hr style=\"border:0.5px solid grey\">"
   ]
  },
  {
   "cell_type": "markdown",
   "id": "18fa74b4",
   "metadata": {},
   "source": [
    "<b>8. Who is the highest paid employee in the Marketing department?"
   ]
  },
  {
   "cell_type": "code",
   "execution_count": null,
   "id": "a684b738",
   "metadata": {},
   "outputs": [],
   "source": [
    "SELECT first_name, last_name\n",
    "FROM salaries\n",
    "    JOIN employees ON salaries.emp_no = employees.emp_no\n",
    "    JOIN dept_emp ON employees.emp_no = dept_emp.emp_no\n",
    "    JOIN departments ON dept_emp.dept_no = departments.dept_no\n",
    "WHERE dept_name LIKE 'Marketing'\n",
    "ORDER BY salary DESC\n",
    "LIMIT 1;"
   ]
  },
  {
   "cell_type": "markdown",
   "id": "1ac2d32f",
   "metadata": {},
   "source": [
    "<b>Answer</b>: Akemi Warwick"
   ]
  },
  {
   "cell_type": "markdown",
   "id": "327b1020",
   "metadata": {},
   "source": [
    "<hr style=\"border:0.5px solid grey\">"
   ]
  },
  {
   "cell_type": "markdown",
   "id": "ff80bee9",
   "metadata": {},
   "source": [
    "<b>9. Which current department manager has the highest salary?"
   ]
  },
  {
   "cell_type": "code",
   "execution_count": null,
   "id": "d3562e8f",
   "metadata": {},
   "outputs": [],
   "source": [
    "SELECT first_name, last_name, salary, dept_name\n",
    "FROM salaries\n",
    "    JOIN employees ON salaries.emp_no = employees.emp_no\n",
    "    JOIN dept_manager ON employees.emp_no = dept_manager.emp_no\n",
    "    JOIN departments ON dept_manager.dept_no = departments.dept_no\n",
    "WHERE dept_manager.to_date > NOW() AND salaries.to_date > NOW()\n",
    "ORDER BY salary DESC\n",
    "LIMIT 1;"
   ]
  },
  {
   "cell_type": "markdown",
   "id": "9032041b",
   "metadata": {},
   "source": [
    "<b>Answer</b>: Vishwani Minakawa with a salary of $106K from Marketing"
   ]
  },
  {
   "cell_type": "markdown",
   "id": "dfde80bd",
   "metadata": {},
   "source": [
    "<hr style=\"border:0.5px solid grey\">"
   ]
  },
  {
   "cell_type": "markdown",
   "id": "d67de11b",
   "metadata": {},
   "source": [
    "<b>10. Determine the average salary for each department. Use all salary information and round your results."
   ]
  },
  {
   "cell_type": "code",
   "execution_count": null,
   "id": "53c73c4d",
   "metadata": {},
   "outputs": [],
   "source": [
    "SELECT d.dept_name, ROUND(AVG(s.salary),0) AS avg_dept_salary\n",
    "FROM departments d\n",
    "    JOIN dept_emp de USING (dept_no)\n",
    "    JOIN salaries s USING (emp_no)\n",
    "GROUP BY d.dept_name\n",
    "ORDER BY avg_dept_salary DESC;"
   ]
  },
  {
   "cell_type": "markdown",
   "id": "5b9b7378",
   "metadata": {},
   "source": [
    "<hr style=\"border:0.5px solid grey\">"
   ]
  },
  {
   "cell_type": "markdown",
   "id": "84f5657c",
   "metadata": {},
   "source": [
    "<div class=\"alert alert-block alert-info\">\n",
    "<b>Remeber:</b> \n",
    "    You can use \"USING\" instead of \"ON\" to join tables together <b><u>only</u></b> if the column is the same exact name on both tables. Otherwise, we can stick to using \"ON\".\n",
    "</div>"
   ]
  },
  {
   "cell_type": "markdown",
   "id": "201b2e84",
   "metadata": {},
   "source": [
    "<hr style=\"border:1px solid black\">"
   ]
  },
  {
   "cell_type": "markdown",
   "id": "2d8c1613",
   "metadata": {},
   "source": [
    "<b>11. BONUS: Find the names of all current employees, their department name, and their current manager's name."
   ]
  },
  {
   "cell_type": "code",
   "execution_count": null,
   "id": "5d5cb7b0",
   "metadata": {},
   "outputs": [],
   "source": [
    "SELECT CONCAT(employees.first_name, \" \", employees.last_name) AS \"Employee Name\", dept_name AS \"Department Name\", CONCAT(managers.first_name, \" \", managers.last_name) as \"Manager Name\" \n",
    "FROM employees AS managers \n",
    "    JOIN dept_manager USING(emp_no)\n",
    "    JOIN departments USING(dept_no)\n",
    "    JOIN dept_emp USING(dept_no)\n",
    "    JOIN employees ON dept_emp.emp_no = employees.emp_no\n",
    "WHERE dept_manager.to_date > NOW()\n",
    "AND dept_emp.to_date > NOW()\n",
    "ORDER BY dept_name;"
   ]
  },
  {
   "cell_type": "markdown",
   "id": "cbbe520c",
   "metadata": {},
   "source": [
    "<hr style=\"border:0.5px solid grey\">"
   ]
  }
 ],
 "metadata": {
  "kernelspec": {
   "display_name": "Python 3 (ipykernel)",
   "language": "python",
   "name": "python3"
  },
  "language_info": {
   "codemirror_mode": {
    "name": "ipython",
    "version": 3
   },
   "file_extension": ".py",
   "mimetype": "text/x-python",
   "name": "python",
   "nbconvert_exporter": "python",
   "pygments_lexer": "ipython3",
   "version": "3.9.13"
  }
 },
 "nbformat": 4,
 "nbformat_minor": 5
}
